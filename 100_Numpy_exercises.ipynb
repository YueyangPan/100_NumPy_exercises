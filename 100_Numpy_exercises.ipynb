{
 "cells": [
  {
   "cell_type": "markdown",
   "id": "bf79c78b",
   "metadata": {},
   "source": [
    "# 100 numpy exercises\n",
    "\n",
    "This is a collection of exercises that have been collected in the numpy mailing list, on stack overflow\n",
    "and in the numpy documentation. The goal of this collection is to offer a quick reference for both old\n",
    "and new users but also to provide a set of exercises for those who teach.\n",
    "\n",
    "\n",
    "If you find an error or think you've a better way to solve some of them, feel\n",
    "free to open an issue at <https://github.com/rougier/numpy-100>."
   ]
  },
  {
   "cell_type": "markdown",
   "id": "8536e059",
   "metadata": {},
   "source": [
    "File automatically generated. See the documentation to update questions/answers/hints programmatically."
   ]
  },
  {
   "cell_type": "markdown",
   "id": "e16ac60b",
   "metadata": {},
   "source": [
    "Run the `initialize.py` module, then for each question you can query the\n",
    "answer or an hint with `hint(n)` or `answer(n)` for `n` question number."
   ]
  },
  {
   "cell_type": "code",
   "execution_count": 3,
   "id": "a8453483",
   "metadata": {},
   "outputs": [
    {
     "output_type": "stream",
     "name": "stdout",
     "text": [
      "Requirement already satisfied: mdutils in /Library/Frameworks/Python.framework/Versions/3.7/lib/python3.7/site-packages (1.3.0)\n"
     ]
    }
   ],
   "source": [
    "!pip3 install mdutils\n",
    "%run initialise.py"
   ]
  },
  {
   "cell_type": "markdown",
   "id": "017db353",
   "metadata": {},
   "source": [
    "#### 1. Import the numpy package under the name `np` (★☆☆)"
   ]
  },
  {
   "cell_type": "code",
   "execution_count": 2,
   "id": "68182a76",
   "metadata": {},
   "outputs": [],
   "source": [
    "import numpy as np"
   ]
  },
  {
   "cell_type": "markdown",
   "id": "46950f4f",
   "metadata": {},
   "source": [
    "#### 2. Print the numpy version and the configuration (★☆☆)"
   ]
  },
  {
   "cell_type": "code",
   "execution_count": 7,
   "id": "2a9f5838",
   "metadata": {},
   "outputs": [
    {
     "output_type": "stream",
     "name": "stdout",
     "text": [
      "1.20.1\nblas_mkl_info:\n  NOT AVAILABLE\nblis_info:\n  NOT AVAILABLE\nopenblas_info:\n    libraries = ['openblas', 'openblas']\n    library_dirs = ['/usr/local/lib']\n    language = c\n    define_macros = [('HAVE_CBLAS', None)]\nblas_opt_info:\n    libraries = ['openblas', 'openblas']\n    library_dirs = ['/usr/local/lib']\n    language = c\n    define_macros = [('HAVE_CBLAS', None)]\nlapack_mkl_info:\n  NOT AVAILABLE\nopenblas_lapack_info:\n    libraries = ['openblas', 'openblas']\n    library_dirs = ['/usr/local/lib']\n    language = c\n    define_macros = [('HAVE_CBLAS', None)]\nlapack_opt_info:\n    libraries = ['openblas', 'openblas']\n    library_dirs = ['/usr/local/lib']\n    language = c\n    define_macros = [('HAVE_CBLAS', None)]\n"
     ]
    }
   ],
   "source": [
    "print(np.__version__)\n",
    "np.show_config()"
   ]
  },
  {
   "cell_type": "markdown",
   "id": "e3c20b3d",
   "metadata": {},
   "source": [
    "#### 3. Create a null vector of size 10 (★☆☆)"
   ]
  },
  {
   "cell_type": "code",
   "execution_count": 9,
   "id": "8a758bcf",
   "metadata": {},
   "outputs": [],
   "source": [
    "Z = np.zeros(10)"
   ]
  },
  {
   "cell_type": "markdown",
   "id": "b15a879f",
   "metadata": {},
   "source": [
    "#### 4. How to find the memory size of any array (★☆☆)"
   ]
  },
  {
   "cell_type": "code",
   "execution_count": 10,
   "id": "1cc3cbc5",
   "metadata": {},
   "outputs": [
    {
     "output_type": "stream",
     "name": "stdout",
     "text": [
      "800 bytes\n"
     ]
    }
   ],
   "source": [
    "Z = np.zeros((10,10))\n",
    "print(\"%d bytes\" % (Z.size * Z.itemsize))"
   ]
  },
  {
   "cell_type": "markdown",
   "id": "0a708990",
   "metadata": {},
   "source": [
    "#### 5. How to get the documentation of the numpy add function from the command line? (★☆☆)"
   ]
  },
  {
   "cell_type": "code",
   "execution_count": 12,
   "id": "477e01f4",
   "metadata": {},
   "outputs": [
    {
     "output_type": "stream",
     "name": "stdout",
     "text": [
      "add(x1, x2, /, out=None, *, where=True, casting='same_kind', order='K', dtype=None, subok=True[, signature, extobj])\n\nAdd arguments element-wise.\n\nParameters\n----------\nx1, x2 : array_like\n    The arrays to be added.\n    If ``x1.shape != x2.shape``, they must be broadcastable to a common\n    shape (which becomes the shape of the output).\nout : ndarray, None, or tuple of ndarray and None, optional\n    A location into which the result is stored. If provided, it must have\n    a shape that the inputs broadcast to. If not provided or None,\n    a freshly-allocated array is returned. A tuple (possible only as a\n    keyword argument) must have length equal to the number of outputs.\nwhere : array_like, optional\n    This condition is broadcast over the input. At locations where the\n    condition is True, the `out` array will be set to the ufunc result.\n    Elsewhere, the `out` array will retain its original value.\n    Note that if an uninitialized `out` array is created via the default\n    ``out=None``, locations within it where the condition is False will\n    remain uninitialized.\n**kwargs\n    For other keyword-only arguments, see the\n    :ref:`ufunc docs <ufuncs.kwargs>`.\n\nReturns\n-------\nadd : ndarray or scalar\n    The sum of `x1` and `x2`, element-wise.\n    This is a scalar if both `x1` and `x2` are scalars.\n\nNotes\n-----\nEquivalent to `x1` + `x2` in terms of array broadcasting.\n\nExamples\n--------\n>>> np.add(1.0, 4.0)\n5.0\n>>> x1 = np.arange(9.0).reshape((3, 3))\n>>> x2 = np.arange(3.0)\n>>> np.add(x1, x2)\narray([[  0.,   2.,   4.],\n       [  3.,   5.,   7.],\n       [  6.,   8.,  10.]])\n\nThe ``+`` operator can be used as a shorthand for ``np.add`` on ndarrays.\n\n>>> x1 = np.arange(9.0).reshape((3, 3))\n>>> x2 = np.arange(3.0)\n>>> x1 + x2\narray([[ 0.,  2.,  4.],\n       [ 3.,  5.,  7.],\n       [ 6.,  8., 10.]])\n"
     ]
    }
   ],
   "source": [
    "np.info(np.add)"
   ]
  },
  {
   "cell_type": "markdown",
   "id": "0b16cd77",
   "metadata": {},
   "source": [
    "#### 6. Create a null vector of size 10 but the fifth value which is 1 (★☆☆)"
   ]
  },
  {
   "cell_type": "code",
   "execution_count": 13,
   "id": "4d9b5975",
   "metadata": {},
   "outputs": [],
   "source": [
    "Z=np.zeros(10)\n",
    "Z[4]=1"
   ]
  },
  {
   "cell_type": "markdown",
   "id": "782d4c77",
   "metadata": {},
   "source": [
    "#### 7. Create a vector with values ranging from 10 to 49 (★☆☆)"
   ]
  },
  {
   "cell_type": "code",
   "execution_count": 14,
   "id": "5dbe1a08",
   "metadata": {},
   "outputs": [],
   "source": [
    "#Z=[i for i in range(10,50)]\n",
    "Z = np.arange(10,50)"
   ]
  },
  {
   "cell_type": "markdown",
   "id": "48d48f01",
   "metadata": {},
   "source": [
    "#### 8. Reverse a vector (first element becomes last) (★☆☆)"
   ]
  },
  {
   "cell_type": "code",
   "execution_count": 24,
   "id": "3ed233e7",
   "metadata": {},
   "outputs": [
    {
     "output_type": "stream",
     "name": "stdout",
     "text": [
      "[9 8 7 6 5 4 3 2 1 0]\n[9, 8, 7, 6, 5, 4, 3, 2, 1, 0]\n"
     ]
    }
   ],
   "source": [
    "Z=np.arange(10)\n",
    "Z1=Z[::-1]\n",
    "print(Z1)\n",
    "Z2=list(Z)\n",
    "Z2.reverse()\n",
    "print(Z2)"
   ]
  },
  {
   "cell_type": "markdown",
   "id": "4fa39382",
   "metadata": {},
   "source": [
    "#### 9. Create a 3x3 matrix with values ranging from 0 to 8 (★☆☆)"
   ]
  },
  {
   "cell_type": "code",
   "execution_count": 27,
   "id": "c97757ec",
   "metadata": {},
   "outputs": [
    {
     "output_type": "stream",
     "name": "stdout",
     "text": [
      "[[0 1 2]\n [3 4 5]\n [6 7 8]]\n"
     ]
    }
   ],
   "source": [
    "Z = np.arange(9).reshape(3,3)\n",
    "print(Z)"
   ]
  },
  {
   "cell_type": "markdown",
   "id": "da64551a",
   "metadata": {},
   "source": [
    "#### 10. Find indices of non-zero elements from [1,2,0,0,4,0] (★☆☆)"
   ]
  },
  {
   "cell_type": "code",
   "execution_count": 52,
   "id": "327f7adb",
   "metadata": {},
   "outputs": [
    {
     "output_type": "stream",
     "name": "stdout",
     "text": [
      "<class 'list'>\n(array([0, 0, 1]), array([0, 1, 1]))\n[[0 0]\n [0 1]\n [1 1]]\n<class 'numpy.ndarray'>\n[[0 0]\n [0 1]\n [1 1]]\n"
     ]
    }
   ],
   "source": [
    "Z=[[1,2,0],[0,4,0]]\n",
    "print(type(Z))\n",
    "nz = np.nonzero(Z)\n",
    "print(nz)\n",
    "print(np.transpose(nz))\n",
    "\n",
    "Z2=np.array(Z)\n",
    "print(type(Z2))\n",
    "nz2= np.argwhere(Z2!=0)\n",
    "print(nz2)"
   ]
  },
  {
   "cell_type": "markdown",
   "id": "f89d9c9e",
   "metadata": {},
   "source": [
    "#### 11. Create a 3x3 identity matrix (★☆☆)"
   ]
  },
  {
   "cell_type": "code",
   "execution_count": 54,
   "id": "ba625832",
   "metadata": {},
   "outputs": [
    {
     "output_type": "stream",
     "name": "stdout",
     "text": [
      "[[1. 0. 0.]\n [0. 1. 0.]\n [0. 0. 1.]]\n"
     ]
    }
   ],
   "source": [
    "Z = np.eye(3)\n",
    "print(Z)"
   ]
  },
  {
   "cell_type": "markdown",
   "id": "7e44c6fa",
   "metadata": {},
   "source": [
    "#### 12. Create a 3x3x3 array with random values (★☆☆)"
   ]
  },
  {
   "cell_type": "code",
   "execution_count": 57,
   "id": "1cb3dddf",
   "metadata": {},
   "outputs": [],
   "source": [
    "Z=np.random.random((3,3,3))"
   ]
  },
  {
   "cell_type": "markdown",
   "id": "13c5928c",
   "metadata": {},
   "source": [
    "#### 13. Create a 10x10 array with random values and find the minimum and maximum values (★☆☆)"
   ]
  },
  {
   "cell_type": "code",
   "execution_count": 62,
   "id": "911c9b93",
   "metadata": {},
   "outputs": [
    {
     "output_type": "stream",
     "name": "stdout",
     "text": [
      "0.9959508190411515 0.00023769882541713194\n"
     ]
    }
   ],
   "source": [
    "Z=np.random.random((10,10))\n",
    "Zmax=np.max(Z)\n",
    "Zmin=np.min(Z)\n",
    "print(Zmax,Zmin)"
   ]
  },
  {
   "cell_type": "markdown",
   "id": "3fa2e461",
   "metadata": {},
   "source": [
    "#### 14. Create a random vector of size 30 and find the mean value (★☆☆)"
   ]
  },
  {
   "cell_type": "code",
   "execution_count": 63,
   "id": "323eb38a",
   "metadata": {},
   "outputs": [
    {
     "output_type": "stream",
     "name": "stdout",
     "text": [
      "0.45528313225600914\n"
     ]
    }
   ],
   "source": [
    "Z=np.random.random(30)\n",
    "Zmean=Z.mean()\n",
    "print(Zmean)"
   ]
  },
  {
   "cell_type": "markdown",
   "id": "73f7a549",
   "metadata": {},
   "source": [
    "#### 15. Create a 2d array with 1 on the border and 0 inside (★☆☆)"
   ]
  },
  {
   "cell_type": "code",
   "execution_count": 64,
   "id": "e3a6807d",
   "metadata": {},
   "outputs": [
    {
     "output_type": "stream",
     "name": "stdout",
     "text": [
      "[[1. 1. 1. 1. 1. 1. 1. 1. 1. 1.]\n [1. 0. 0. 0. 0. 0. 0. 0. 0. 1.]\n [1. 0. 0. 0. 0. 0. 0. 0. 0. 1.]\n [1. 0. 0. 0. 0. 0. 0. 0. 0. 1.]\n [1. 0. 0. 0. 0. 0. 0. 0. 0. 1.]\n [1. 0. 0. 0. 0. 0. 0. 0. 0. 1.]\n [1. 0. 0. 0. 0. 0. 0. 0. 0. 1.]\n [1. 0. 0. 0. 0. 0. 0. 0. 0. 1.]\n [1. 0. 0. 0. 0. 0. 0. 0. 0. 1.]\n [1. 1. 1. 1. 1. 1. 1. 1. 1. 1.]]\n"
     ]
    }
   ],
   "source": [
    "Z=np.ones((10,10))\n",
    "Z[1:-1,1:-1]=0\n",
    "print(Z)"
   ]
  },
  {
   "cell_type": "markdown",
   "id": "6d0c506f",
   "metadata": {},
   "source": [
    "#### 16. How to add a border (filled with 0's) around an existing array? (★☆☆)"
   ]
  },
  {
   "cell_type": "code",
   "execution_count": 65,
   "id": "32ffee7b",
   "metadata": {},
   "outputs": [
    {
     "output_type": "stream",
     "name": "stdout",
     "text": [
      "[[0. 0. 0. 0. 0. 0. 0.]\n [0. 1. 1. 1. 1. 1. 0.]\n [0. 1. 1. 1. 1. 1. 0.]\n [0. 1. 1. 1. 1. 1. 0.]\n [0. 1. 1. 1. 1. 1. 0.]\n [0. 1. 1. 1. 1. 1. 0.]\n [0. 0. 0. 0. 0. 0. 0.]]\n"
     ]
    }
   ],
   "source": [
    "Z=np.ones((5,5))\n",
    "Z= np.pad(Z,pad_width=1,mode='constant', constant_values=0)\n",
    "print(Z)"
   ]
  },
  {
   "cell_type": "markdown",
   "id": "d6ad1a9f",
   "metadata": {},
   "source": [
    "#### 17. What is the result of the following expression? (★☆☆)\n",
    "```python\n",
    "0 * np.nan\n",
    "np.nan == np.nan\n",
    "np.inf > np.nan\n",
    "np.nan - np.nan\n",
    "np.nan in set([np.nan])\n",
    "0.3 == 3 * 0.1\n",
    "```"
   ]
  },
  {
   "cell_type": "code",
   "execution_count": 78,
   "id": "ee7ff0f3",
   "metadata": {},
   "outputs": [
    {
     "output_type": "stream",
     "name": "stdout",
     "text": [
      "nan\nFalse\nFalse\nFalse\nnan\nnan\ninf\nTrue\nFalse\n0.30000000000000004\n0.30000000447034836\n0.3\n"
     ]
    }
   ],
   "source": [
    "print(0 * np.nan)\n",
    "print(np.nan == np.nan)\n",
    "print(np.inf > np.nan)\n",
    "print(np.inf < np.nan)\n",
    "print(np.nan - np.nan)\n",
    "print(np.inf - np.inf)\n",
    "print(np.inf)\n",
    "print(np.nan in set([np.nan]))\n",
    "\n",
    "print(0.3 == 3 * 0.1)\n",
    "print(3*0.1)\n",
    "print(3*np.float32(0.1))\n",
    "print(np.float32(3*0.1))"
   ]
  },
  {
   "cell_type": "markdown",
   "id": "e3a7ba7f",
   "metadata": {},
   "source": [
    "#### 18. Create a 5x5 matrix with values 1,2,3,4 just below the diagonal (★☆☆)"
   ]
  },
  {
   "cell_type": "code",
   "execution_count": 81,
   "id": "01d8e257",
   "metadata": {},
   "outputs": [
    {
     "output_type": "stream",
     "name": "stdout",
     "text": [
      "[[0 0 0 0 0]\n [1 0 0 0 0]\n [0 2 0 0 0]\n [0 0 3 0 0]\n [0 0 0 4 0]]\n"
     ]
    }
   ],
   "source": [
    "Z=np.diag(1+np.arange(4),k=-1)\n",
    "print(Z)"
   ]
  },
  {
   "cell_type": "markdown",
   "id": "6d17ab5d",
   "metadata": {},
   "source": [
    "#### 19. Create a 8x8 matrix and fill it with a checkerboard pattern (★☆☆)"
   ]
  },
  {
   "cell_type": "code",
   "execution_count": 84,
   "id": "841373cd",
   "metadata": {},
   "outputs": [
    {
     "output_type": "stream",
     "name": "stdout",
     "text": [
      "[[0 1 0 1 0 1 0 1]\n [1 0 1 0 1 0 1 0]\n [0 1 0 1 0 1 0 1]\n [1 0 1 0 1 0 1 0]\n [0 1 0 1 0 1 0 1]\n [1 0 1 0 1 0 1 0]\n [0 1 0 1 0 1 0 1]\n [1 0 1 0 1 0 1 0]]\n"
     ]
    }
   ],
   "source": [
    "Z=np.zeros((8,8),dtype=int)\n",
    "Z[1::2,::2]=1\n",
    "Z[::2,1::2]=1\n",
    "print(Z)"
   ]
  },
  {
   "cell_type": "markdown",
   "id": "8837119b",
   "metadata": {},
   "source": [
    "#### 20. Consider a (6,7,8) shape array, what is the index (x,y,z) of the 100th element? (★☆☆)"
   ]
  },
  {
   "cell_type": "code",
   "execution_count": 85,
   "id": "2c0d16f1",
   "metadata": {},
   "outputs": [
    {
     "output_type": "stream",
     "name": "stdout",
     "text": [
      "(1, 5, 3)\n"
     ]
    }
   ],
   "source": [
    "print(np.unravel_index(99,(6,7,8)))"
   ]
  },
  {
   "cell_type": "markdown",
   "id": "ec788c9f",
   "metadata": {},
   "source": [
    "#### 21. Create a checkerboard 8x8 matrix using the tile function (★☆☆)"
   ]
  },
  {
   "cell_type": "code",
   "execution_count": 86,
   "id": "0a4f919f",
   "metadata": {},
   "outputs": [
    {
     "output_type": "stream",
     "name": "stdout",
     "text": [
      "[[0 1 0 1 0 1 0 1]\n [1 0 1 0 1 0 1 0]\n [0 1 0 1 0 1 0 1]\n [1 0 1 0 1 0 1 0]\n [0 1 0 1 0 1 0 1]\n [1 0 1 0 1 0 1 0]\n [0 1 0 1 0 1 0 1]\n [1 0 1 0 1 0 1 0]]\n"
     ]
    }
   ],
   "source": [
    "Z=np.tile([[0,1],[1,0]],(4,4))\n",
    "print(Z)"
   ]
  },
  {
   "cell_type": "markdown",
   "id": "391791e0",
   "metadata": {},
   "source": [
    "#### 22. Normalize a 5x5 random matrix (★☆☆)"
   ]
  },
  {
   "cell_type": "code",
   "execution_count": 87,
   "id": "f6533d39",
   "metadata": {},
   "outputs": [
    {
     "output_type": "stream",
     "name": "stdout",
     "text": [
      "[[-1.11974754 -0.75183333  1.20194468  1.44681344 -0.70993548]\n [-0.40883191 -0.74698746 -1.23742094  0.55879233 -1.35887348]\n [-0.47137867 -1.28538356  0.61556668  0.68916688 -1.19890396]\n [-0.34815711  1.4283998   0.05809216 -0.76847446  1.22929724]\n [ 1.21280139  1.38745886  1.2740939  -1.06579463  0.36929517]]\n"
     ]
    }
   ],
   "source": [
    "Z=np.random.random((5,5))\n",
    "Zmean=Z.mean()\n",
    "Zstd=Z.std()\n",
    "Z=(Z-Zmean)/Zstd\n",
    "print(Z)"
   ]
  },
  {
   "cell_type": "markdown",
   "id": "1e74d39e",
   "metadata": {},
   "source": [
    "#### 23. Create a custom dtype that describes a color as four unsigned bytes (RGBA) (★☆☆)"
   ]
  },
  {
   "cell_type": "code",
   "execution_count": 88,
   "id": "3f639d33",
   "metadata": {},
   "outputs": [
    {
     "output_type": "stream",
     "name": "stdout",
     "text": [
      "[('r', 'u1'), ('g', 'u1'), ('b', 'u1'), ('a', 'u1')]\n"
     ]
    }
   ],
   "source": [
    "color=np.dtype([('r',np.ubyte),\n",
    "                ('g',np.ubyte),\n",
    "                ('b',np.ubyte),\n",
    "                ('a',np.ubyte)])\n",
    "print(color)"
   ]
  },
  {
   "cell_type": "markdown",
   "id": "78250c14",
   "metadata": {},
   "source": [
    "#### 24. Multiply a 5x3 matrix by a 3x2 matrix (real matrix product) (★☆☆)"
   ]
  },
  {
   "cell_type": "code",
   "execution_count": 91,
   "id": "9fe729cb",
   "metadata": {},
   "outputs": [
    {
     "output_type": "stream",
     "name": "stdout",
     "text": [
      "[[3. 3.]\n [3. 3.]\n [3. 3.]\n [3. 3.]\n [3. 3.]]\n[[3. 3.]\n [3. 3.]\n [3. 3.]\n [3. 3.]\n [3. 3.]]\n"
     ]
    }
   ],
   "source": [
    "Z=np.dot(np.ones((5,3)),np.ones((3,2)))\n",
    "print(Z)\n",
    "\n",
    "Z=np.ones((5,3)) @ np.ones((3,2))\n",
    "print(Z)"
   ]
  },
  {
   "cell_type": "markdown",
   "id": "51898680",
   "metadata": {},
   "source": [
    "#### 25. Given a 1D array, negate all elements which are between 3 and 8, in place. (★☆☆)"
   ]
  },
  {
   "cell_type": "code",
   "execution_count": 93,
   "id": "51c90f2d",
   "metadata": {},
   "outputs": [
    {
     "output_type": "stream",
     "name": "stdout",
     "text": [
      "[ 0  1  2  3 -4 -5 -6 -7  8  9 10]\n"
     ]
    }
   ],
   "source": [
    "Z=np.arange(11)\n",
    "Z[(Z<8)&(Z>3)]*=-1\n",
    "print(Z)"
   ]
  },
  {
   "cell_type": "markdown",
   "id": "89e78048",
   "metadata": {},
   "source": [
    "#### 26. What is the output of the following script? (★☆☆)\n",
    "```python\n",
    "# Author: Jake VanderPlas\n",
    "\n",
    "print(sum(range(5),-1))\n",
    "from numpy import *\n",
    "print(sum(range(5),-1))\n",
    "```"
   ]
  },
  {
   "cell_type": "code",
   "execution_count": 94,
   "id": "b62e9d1c",
   "metadata": {},
   "outputs": [
    {
     "output_type": "stream",
     "name": "stdout",
     "text": [
      "9\n10\n"
     ]
    }
   ],
   "source": [
    "# Author: Jake VanderPlas\n",
    "\n",
    "print(sum(range(5),-1))\n",
    "from numpy import *\n",
    "print(sum(range(5),-1))"
   ]
  },
  {
   "cell_type": "markdown",
   "id": "ebd10810",
   "metadata": {},
   "source": [
    "#### 27. Consider an integer vector Z, which of these expressions are legal? (★☆☆)\n",
    "```python\n",
    "Z**Z\n",
    "2 << Z >> 2\n",
    "Z <- Z\n",
    "1j*Z\n",
    "Z/1/1\n",
    "Z<Z>Z\n",
    "```"
   ]
  },
  {
   "cell_type": "code",
   "execution_count": 108,
   "id": "6ada209f",
   "metadata": {},
   "outputs": [
    {
     "output_type": "stream",
     "name": "stdout",
     "text": [
      "[0 1 2 3 4 5]\n[   1    1    4   27  256 3125]\n[ 0  1  2  4  8 16]\n[False False False False False False]\n[0.+0.j 0.+1.j 0.+2.j 0.+3.j 0.+4.j 0.+5.j]\n[0. 1. 2. 3. 4. 5.]\n"
     ]
    },
    {
     "output_type": "error",
     "ename": "ValueError",
     "evalue": "The truth value of an array with more than one element is ambiguous. Use a.any() or a.all()",
     "traceback": [
      "\u001b[0;31m---------------------------------------------------------------------------\u001b[0m",
      "\u001b[0;31mValueError\u001b[0m                                Traceback (most recent call last)",
      "\u001b[0;32m<ipython-input-108-ca5b71d2f57e>\u001b[0m in \u001b[0;36m<module>\u001b[0;34m()\u001b[0m\n\u001b[1;32m      6\u001b[0m \u001b[0mprint\u001b[0m\u001b[0;34m(\u001b[0m\u001b[0;36m1j\u001b[0m\u001b[0;34m*\u001b[0m\u001b[0mZ\u001b[0m\u001b[0;34m)\u001b[0m\u001b[0;34m\u001b[0m\u001b[0;34m\u001b[0m\u001b[0m\n\u001b[1;32m      7\u001b[0m \u001b[0mprint\u001b[0m\u001b[0;34m(\u001b[0m\u001b[0mZ\u001b[0m\u001b[0;34m/\u001b[0m\u001b[0;36m1\u001b[0m\u001b[0;34m/\u001b[0m\u001b[0;36m1\u001b[0m\u001b[0;34m)\u001b[0m\u001b[0;34m\u001b[0m\u001b[0;34m\u001b[0m\u001b[0m\n\u001b[0;32m----> 8\u001b[0;31m \u001b[0mprint\u001b[0m\u001b[0;34m(\u001b[0m\u001b[0mZ\u001b[0m\u001b[0;34m<\u001b[0m\u001b[0mZ\u001b[0m\u001b[0;34m>\u001b[0m\u001b[0mZ\u001b[0m\u001b[0;34m)\u001b[0m\u001b[0;34m\u001b[0m\u001b[0;34m\u001b[0m\u001b[0m\n\u001b[0m",
      "\u001b[0;31mValueError\u001b[0m: The truth value of an array with more than one element is ambiguous. Use a.any() or a.all()"
     ]
    }
   ],
   "source": [
    "Z=np.arange(6,dtype=int)\n",
    "print(Z)\n",
    "print(Z**Z)\n",
    "print(2 << Z >> 2)\n",
    "print(Z <- Z)\n",
    "print(1j*Z)\n",
    "print(Z/1/1)\n",
    "print(Z<Z>Z)\n"
   ]
  },
  {
   "cell_type": "markdown",
   "id": "c0e940f8",
   "metadata": {},
   "source": [
    "#### 28. What are the result of the following expressions? (★☆☆)\n",
    "```python\n",
    "np.array(0) / np.array(0)\n",
    "np.array(0) // np.array(0)\n",
    "np.array([np.nan]).astype(int).astype(float)\n",
    "```"
   ]
  },
  {
   "cell_type": "code",
   "execution_count": 110,
   "id": "820dc7a5",
   "metadata": {},
   "outputs": [
    {
     "output_type": "stream",
     "name": "stdout",
     "text": [
      "nan\n",
      "0\n",
      "[-9.22337204e+18]\n",
      "ipykernel_launcher:1: RuntimeWarning: invalid value encountered in true_divide\n",
      "ipykernel_launcher:2: RuntimeWarning: divide by zero encountered in floor_divide\n"
     ]
    }
   ],
   "source": [
    "print(np.array(0) / np.array(0))\n",
    "print(np.array(0) // np.array(0))\n",
    "print(np.array([np.nan]).astype(int).astype(float))"
   ]
  },
  {
   "cell_type": "markdown",
   "id": "22713c3f",
   "metadata": {},
   "source": [
    "#### 29. How to round away from zero a float array ? (★☆☆)"
   ]
  },
  {
   "cell_type": "code",
   "execution_count": 113,
   "id": "a3e05c29",
   "metadata": {},
   "outputs": [
    {
     "output_type": "stream",
     "name": "stdout",
     "text": [
      "[ 0.53510692 -7.1564307   1.52156678 -2.97134666  1.32895778  7.79891679\n  8.52826169  2.21818326 -5.87116807 -7.5315754 ]\n[ 1. -8.  2. -3.  2.  8.  9.  3. -6. -8.]\n[ 1. -8.  2. -3.  2.  8.  9.  3. -6. -8.]\n where()\n\nwhere(condition, [x, y])\n\nReturn elements chosen from `x` or `y` depending on `condition`.\n\n.. note::\n    When only `condition` is provided, this function is a shorthand for\n    ``np.asarray(condition).nonzero()``. Using `nonzero` directly should be\n    preferred, as it behaves correctly for subclasses. The rest of this\n    documentation covers only the case where all three arguments are\n    provided.\n\nParameters\n----------\ncondition : array_like, bool\n    Where True, yield `x`, otherwise yield `y`.\nx, y : array_like\n    Values from which to choose. `x`, `y` and `condition` need to be\n    broadcastable to some shape.\n\nReturns\n-------\nout : ndarray\n    An array with elements from `x` where `condition` is True, and elements\n    from `y` elsewhere.\n\nSee Also\n--------\nchoose\nnonzero : The function that is called when x and y are omitted\n\nNotes\n-----\nIf all the arrays are 1-D, `where` is equivalent to::\n\n    [xv if c else yv\n     for c, xv, yv in zip(condition, x, y)]\n\nExamples\n--------\n>>> a = np.arange(10)\n>>> a\narray([0, 1, 2, 3, 4, 5, 6, 7, 8, 9])\n>>> np.where(a < 5, a, 10*a)\narray([ 0,  1,  2,  3,  4, 50, 60, 70, 80, 90])\n\nThis can be used on multidimensional arrays too:\n\n>>> np.where([[True, False], [True, True]],\n...          [[1, 2], [3, 4]],\n...          [[9, 8], [7, 6]])\narray([[1, 8],\n       [3, 4]])\n\nThe shapes of x, y, and the condition are broadcast together:\n\n>>> x, y = np.ogrid[:3, :4]\n>>> np.where(x < y, x, 10 + y)  # both x and 10+y are broadcast\narray([[10,  0,  0,  0],\n       [10, 11,  1,  1],\n       [10, 11, 12,  2]])\n\n>>> a = np.array([[0, 1, 2],\n...               [0, 2, 4],\n...               [0, 3, 6]])\n>>> np.where(a < 4, a, -1)  # -1 is broadcast\narray([[ 0,  1,  2],\n       [ 0,  2, -1],\n       [ 0,  3, -1]])\n"
     ]
    }
   ],
   "source": [
    "Z= np.random.uniform(-10,+10,10)\n",
    "print(Z)\n",
    "\n",
    "#method 1\n",
    "print(np.copysign(np.ceil(np.abs(Z)),Z))\n",
    "\n",
    "# method 2: More readable but less efficient\n",
    "print(np.where(Z>0, np.ceil(Z), np.floor(Z)))\n",
    "\n",
    "np.info(np.where)"
   ]
  },
  {
   "cell_type": "markdown",
   "id": "f1ae2c2d",
   "metadata": {},
   "source": [
    "#### 30. How to find common values between two arrays? (★☆☆)"
   ]
  },
  {
   "cell_type": "code",
   "execution_count": 125,
   "id": "6801c73d",
   "metadata": {},
   "outputs": [
    {
     "output_type": "stream",
     "name": "stdout",
     "text": [
      "[2 4 5 8]\n(array([2, 4, 5, 8]), array([8, 1, 4, 3]), array([1, 5, 6, 8]))\n"
     ]
    }
   ],
   "source": [
    "Z1=np.random.randint(0,10,10).reshape(2,5)\n",
    "Z2=np.random.randint(0,10,10).reshape(2,5)\n",
    "#np.info(np.intersect1d)\n",
    "print(np.intersect1d(Z1,Z2,return_indices=False))\n",
    "print(np.intersect1d(Z1,Z2,return_indices=True))"
   ]
  },
  {
   "cell_type": "markdown",
   "id": "34a7bdee",
   "metadata": {},
   "source": [
    "#### 31. How to ignore all numpy warnings (not recommended)? (★☆☆)"
   ]
  },
  {
   "cell_type": "code",
   "execution_count": 135,
   "id": "befc60d1",
   "metadata": {},
   "outputs": [],
   "source": [
    "defaults = np.seterr(all='ignore')\n",
    "Z=np.ones(1)/0\n",
    "\n",
    "#Back to sanity\n",
    "_ = np.seterr(**defaults)\n",
    "\n",
    "# Equivalently with a context manager\n",
    "with np.errstate(all='ignore'):\n",
    "    np.arange(3)/0"
   ]
  },
  {
   "cell_type": "code",
   "execution_count": 136,
   "metadata": {},
   "outputs": [
    {
     "output_type": "stream",
     "name": "stdout",
     "text": [
      " seterr(all=None, divide=None, over=None, under=None, invalid=None)\n\nSet how floating-point errors are handled.\n\nNote that operations on integer scalar types (such as `int16`) are\nhandled like floating point, and are affected by these settings.\n\nParameters\n----------\nall : {'ignore', 'warn', 'raise', 'call', 'print', 'log'}, optional\n    Set treatment for all types of floating-point errors at once:\n\n    - ignore: Take no action when the exception occurs.\n    - warn: Print a `RuntimeWarning` (via the Python `warnings` module).\n    - raise: Raise a `FloatingPointError`.\n    - call: Call a function specified using the `seterrcall` function.\n    - print: Print a warning directly to ``stdout``.\n    - log: Record error in a Log object specified by `seterrcall`.\n\n    The default is not to change the current behavior.\ndivide : {'ignore', 'warn', 'raise', 'call', 'print', 'log'}, optional\n    Treatment for division by zero.\nover : {'ignore', 'warn', 'raise', 'call', 'print', 'log'}, optional\n    Treatment for floating-point overflow.\nunder : {'ignore', 'warn', 'raise', 'call', 'print', 'log'}, optional\n    Treatment for floating-point underflow.\ninvalid : {'ignore', 'warn', 'raise', 'call', 'print', 'log'}, optional\n    Treatment for invalid floating-point operation.\n\nReturns\n-------\nold_settings : dict\n    Dictionary containing the old settings.\n\nSee also\n--------\nseterrcall : Set a callback function for the 'call' mode.\ngeterr, geterrcall, errstate\n\nNotes\n-----\nThe floating-point exceptions are defined in the IEEE 754 standard [1]_:\n\n- Division by zero: infinite result obtained from finite numbers.\n- Overflow: result too large to be expressed.\n- Underflow: result so close to zero that some precision\n  was lost.\n- Invalid operation: result is not an expressible number, typically\n  indicates that a NaN was produced.\n\n.. [1] https://en.wikipedia.org/wiki/IEEE_754\n\nExamples\n--------\n>>> old_settings = np.seterr(all='ignore')  #seterr to known value\n>>> np.seterr(over='raise')\n{'divide': 'ignore', 'over': 'ignore', 'under': 'ignore', 'invalid': 'ignore'}\n>>> np.seterr(**old_settings)  # reset to default\n{'divide': 'ignore', 'over': 'raise', 'under': 'ignore', 'invalid': 'ignore'}\n\n>>> np.int16(32000) * np.int16(3)\n30464\n>>> old_settings = np.seterr(all='warn', over='raise')\n>>> np.int16(32000) * np.int16(3)\nTraceback (most recent call last):\n  File \"<stdin>\", line 1, in <module>\nFloatingPointError: overflow encountered in short_scalars\n\n>>> from collections import OrderedDict\n>>> old_settings = np.seterr(all='print')\n>>> OrderedDict(np.geterr())\nOrderedDict([('divide', 'print'), ('over', 'print'), ('under', 'print'), ('invalid', 'print')])\n>>> np.int16(32000) * np.int16(3)\n30464\n"
     ]
    }
   ],
   "source": [
    "np.info(np.seterr)"
   ]
  },
  {
   "cell_type": "markdown",
   "id": "37bc0973",
   "metadata": {},
   "source": [
    "#### 32. Is the following expressions true? (★☆☆)\n",
    "```python\n",
    "np.sqrt(-1) == np.emath.sqrt(-1)\n",
    "```"
   ]
  },
  {
   "cell_type": "code",
   "execution_count": 138,
   "id": "c70cbabe",
   "metadata": {},
   "outputs": [
    {
     "output_type": "stream",
     "name": "stdout",
     "text": [
      "False\nnan\n1j\n"
     ]
    }
   ],
   "source": [
    "print(np.sqrt(-1) == np.emath.sqrt(-1))\n",
    "print(np.sqrt(-1))\n",
    "print(np.emath.sqrt(-1))"
   ]
  },
  {
   "cell_type": "markdown",
   "id": "129c342d",
   "metadata": {},
   "source": [
    "#### 33. How to get the dates of yesterday, today and tomorrow? (★☆☆)"
   ]
  },
  {
   "cell_type": "code",
   "execution_count": 139,
   "id": "8ba1badb",
   "metadata": {},
   "outputs": [
    {
     "output_type": "stream",
     "name": "stdout",
     "text": [
      "2021-06-22\n2021-06-23\n2021-06-24\n"
     ]
    }
   ],
   "source": [
    "yesterday=np.datetime64('today')-np.timedelta64(1)\n",
    "today = np.datetime64('today')\n",
    "tomorrow = np.datetime64('today')+ np.timedelta64(1)\n",
    "print(yesterday)\n",
    "print(today)\n",
    "print(tomorrow)"
   ]
  },
  {
   "cell_type": "code",
   "execution_count": 140,
   "metadata": {},
   "outputs": [
    {
     "output_type": "stream",
     "name": "stdout",
     "text": [
      " datetime64()\n\nA datetime stored as a 64-bit integer, counting from ``1970-01-01T00:00:00``.\n\n>>> np.datetime64(10, 'Y')\nnumpy.datetime64('1980')\n>>> np.datetime64(10, 'D')\nnumpy.datetime64('1970-01-11')\n\nSee :ref:`arrays.datetime` for more information.\n\n:Character code: ``'M'``\n\n\nMethods:\n\n  all  --  Scalar method identical to the corresponding array attribute.\n  any  --  Scalar method identical to the corresponding array attribute.\n  argmax  --  Scalar method identical to the corresponding array attribute.\n  argmin  --  Scalar method identical to the corresponding array attribute.\n  argsort  --  Scalar method identical to the corresponding array attribute.\n  astype  --  Scalar method identical to the corresponding array attribute.\n  byteswap  --  Scalar method identical to the corresponding array attribute.\n  choose  --  Scalar method identical to the corresponding array attribute.\n  clip  --  Scalar method identical to the corresponding array attribute.\n  compress  --  Scalar method identical to the corresponding array attribute.\n  conj  --  None\n  conjugate  --  Scalar method identical to the corresponding array attribute.\n  copy  --  Scalar method identical to the corresponding array attribute.\n  cumprod  --  Scalar method identical to the corresponding array attribute.\n  cumsum  --  Scalar method identical to the corresponding array attribute.\n  diagonal  --  Scalar method identical to the corresponding array attribute.\n  dump  --  Scalar method identical to the corresponding array attribute.\n  dumps  --  Scalar method identical to the corresponding array attribute.\n  fill  --  Scalar method identical to the corresponding array attribute.\n  flatten  --  Scalar method identical to the corresponding array attribute.\n  getfield  --  Scalar method identical to the corresponding array attribute.\n  item  --  Scalar method identical to the corresponding array attribute.\n  itemset  --  Scalar method identical to the corresponding array attribute.\n  max  --  Scalar method identical to the corresponding array attribute.\n  mean  --  Scalar method identical to the corresponding array attribute.\n  min  --  Scalar method identical to the corresponding array attribute.\n  newbyteorder  --  newbyteorder(new_order='S', /)\n  nonzero  --  Scalar method identical to the corresponding array attribute.\n  prod  --  Scalar method identical to the corresponding array attribute.\n  ptp  --  Scalar method identical to the corresponding array attribute.\n  put  --  Scalar method identical to the corresponding array attribute.\n  ravel  --  Scalar method identical to the corresponding array attribute.\n  repeat  --  Scalar method identical to the corresponding array attribute.\n  reshape  --  Scalar method identical to the corresponding array attribute.\n  resize  --  Scalar method identical to the corresponding array attribute.\n  round  --  Scalar method identical to the corresponding array attribute.\n  searchsorted  --  Scalar method identical to the corresponding array attribute.\n  setfield  --  Scalar method identical to the corresponding array attribute.\n  setflags  --  Scalar method identical to the corresponding array attribute.\n  sort  --  Scalar method identical to the corresponding array attribute.\n  squeeze  --  Scalar method identical to the corresponding array attribute.\n  std  --  Scalar method identical to the corresponding array attribute.\n  sum  --  Scalar method identical to the corresponding array attribute.\n  swapaxes  --  Scalar method identical to the corresponding array attribute.\n  take  --  Scalar method identical to the corresponding array attribute.\n  tobytes  --  None\n  tofile  --  Scalar method identical to the corresponding array attribute.\n  tolist  --  Scalar method identical to the corresponding array attribute.\n  tostring  --  Scalar method identical to the corresponding array attribute.\n  trace  --  Scalar method identical to the corresponding array attribute.\n  transpose  --  Scalar method identical to the corresponding array attribute.\n  var  --  Scalar method identical to the corresponding array attribute.\n  view  --  Scalar method identical to the corresponding array attribute.\n"
     ]
    }
   ],
   "source": [
    "np.info(np.datetime64)"
   ]
  },
  {
   "cell_type": "code",
   "execution_count": 141,
   "metadata": {},
   "outputs": [
    {
     "output_type": "stream",
     "name": "stdout",
     "text": [
      " timedelta64()\n\nA timedelta stored as a 64-bit integer.\n\nSee :ref:`arrays.datetime` for more information.\n\n:Character code: ``'m'``\n\n\nMethods:\n\n  all  --  Scalar method identical to the corresponding array attribute.\n  any  --  Scalar method identical to the corresponding array attribute.\n  argmax  --  Scalar method identical to the corresponding array attribute.\n  argmin  --  Scalar method identical to the corresponding array attribute.\n  argsort  --  Scalar method identical to the corresponding array attribute.\n  astype  --  Scalar method identical to the corresponding array attribute.\n  byteswap  --  Scalar method identical to the corresponding array attribute.\n  choose  --  Scalar method identical to the corresponding array attribute.\n  clip  --  Scalar method identical to the corresponding array attribute.\n  compress  --  Scalar method identical to the corresponding array attribute.\n  conj  --  None\n  conjugate  --  Scalar method identical to the corresponding array attribute.\n  copy  --  Scalar method identical to the corresponding array attribute.\n  cumprod  --  Scalar method identical to the corresponding array attribute.\n  cumsum  --  Scalar method identical to the corresponding array attribute.\n  diagonal  --  Scalar method identical to the corresponding array attribute.\n  dump  --  Scalar method identical to the corresponding array attribute.\n  dumps  --  Scalar method identical to the corresponding array attribute.\n  fill  --  Scalar method identical to the corresponding array attribute.\n  flatten  --  Scalar method identical to the corresponding array attribute.\n  getfield  --  Scalar method identical to the corresponding array attribute.\n  item  --  Scalar method identical to the corresponding array attribute.\n  itemset  --  Scalar method identical to the corresponding array attribute.\n  max  --  Scalar method identical to the corresponding array attribute.\n  mean  --  Scalar method identical to the corresponding array attribute.\n  min  --  Scalar method identical to the corresponding array attribute.\n  newbyteorder  --  newbyteorder(new_order='S', /)\n  nonzero  --  Scalar method identical to the corresponding array attribute.\n  prod  --  Scalar method identical to the corresponding array attribute.\n  ptp  --  Scalar method identical to the corresponding array attribute.\n  put  --  Scalar method identical to the corresponding array attribute.\n  ravel  --  Scalar method identical to the corresponding array attribute.\n  repeat  --  Scalar method identical to the corresponding array attribute.\n  reshape  --  Scalar method identical to the corresponding array attribute.\n  resize  --  Scalar method identical to the corresponding array attribute.\n  round  --  Scalar method identical to the corresponding array attribute.\n  searchsorted  --  Scalar method identical to the corresponding array attribute.\n  setfield  --  Scalar method identical to the corresponding array attribute.\n  setflags  --  Scalar method identical to the corresponding array attribute.\n  sort  --  Scalar method identical to the corresponding array attribute.\n  squeeze  --  Scalar method identical to the corresponding array attribute.\n  std  --  Scalar method identical to the corresponding array attribute.\n  sum  --  Scalar method identical to the corresponding array attribute.\n  swapaxes  --  Scalar method identical to the corresponding array attribute.\n  take  --  Scalar method identical to the corresponding array attribute.\n  tobytes  --  None\n  tofile  --  Scalar method identical to the corresponding array attribute.\n  tolist  --  Scalar method identical to the corresponding array attribute.\n  tostring  --  Scalar method identical to the corresponding array attribute.\n  trace  --  Scalar method identical to the corresponding array attribute.\n  transpose  --  Scalar method identical to the corresponding array attribute.\n  var  --  Scalar method identical to the corresponding array attribute.\n  view  --  Scalar method identical to the corresponding array attribute.\n"
     ]
    }
   ],
   "source": [
    "np.info(np.timedelta64)"
   ]
  },
  {
   "cell_type": "markdown",
   "id": "42f8b2f9",
   "metadata": {},
   "source": [
    "#### 34. How to get all the dates corresponding to the month of July 2016? (★★☆)"
   ]
  },
  {
   "cell_type": "code",
   "execution_count": 142,
   "id": "eb8ebe45",
   "metadata": {},
   "outputs": [
    {
     "output_type": "stream",
     "name": "stdout",
     "text": [
      "['2016-07-01' '2016-07-02' '2016-07-03' '2016-07-04' '2016-07-05'\n '2016-07-06' '2016-07-07' '2016-07-08' '2016-07-09' '2016-07-10'\n '2016-07-11' '2016-07-12' '2016-07-13' '2016-07-14' '2016-07-15'\n '2016-07-16' '2016-07-17' '2016-07-18' '2016-07-19' '2016-07-20'\n '2016-07-21' '2016-07-22' '2016-07-23' '2016-07-24' '2016-07-25'\n '2016-07-26' '2016-07-27' '2016-07-28' '2016-07-29' '2016-07-30'\n '2016-07-31']\n"
     ]
    }
   ],
   "source": [
    "Z=np.arange('2016-07','2016-08',dtype='datetime64[D]')\n",
    "print(Z)"
   ]
  },
  {
   "cell_type": "markdown",
   "id": "252c43e2",
   "metadata": {},
   "source": [
    "#### 35. How to compute ((A+B)*(-A/2)) in place (without copy)? (★★☆)"
   ]
  },
  {
   "cell_type": "code",
   "execution_count": 143,
   "id": "f06ff615",
   "metadata": {},
   "outputs": [
    {
     "output_type": "stream",
     "name": "stdout",
     "text": [
      "[-1.5 -1.5 -1.5]\n"
     ]
    }
   ],
   "source": [
    "A = np.ones(3)*1\n",
    "B = np.ones(3)*2\n",
    "np.add(A,B,out=B)\n",
    "np.divide(A,2,out=A)\n",
    "np.negative(A,out=A)\n",
    "np.multiply(A,B,out=A)\n",
    "print(A)"
   ]
  },
  {
   "cell_type": "markdown",
   "id": "486df8ea",
   "metadata": {},
   "source": [
    "#### 36. Extract the integer part of a random array of positive numbers using 4 different methods (★★☆)"
   ]
  },
  {
   "cell_type": "code",
   "execution_count": 145,
   "id": "34b4fa08",
   "metadata": {},
   "outputs": [
    {
     "output_type": "stream",
     "name": "stdout",
     "text": [
      "[0. 6. 7. 2. 5. 4.]\n[0. 6. 7. 2. 5. 4.]\n[0. 6. 7. 2. 5. 4.]\n[0 6 7 2 5 4]\n[0. 6. 7. 2. 5. 4.]\n"
     ]
    }
   ],
   "source": [
    "Z=np.random.uniform(0,10,6)\n",
    "print(Z-Z%1)\n",
    "print(Z//1)\n",
    "print(np.floor(Z))\n",
    "print(Z.astype(int))\n",
    "print(np.trunc(Z))"
   ]
  },
  {
   "cell_type": "code",
   "execution_count": 146,
   "metadata": {},
   "outputs": [
    {
     "output_type": "stream",
     "name": "stdout",
     "text": [
      "trunc(x, /, out=None, *, where=True, casting='same_kind', order='K', dtype=None, subok=True[, signature, extobj])\n\nReturn the truncated value of the input, element-wise.\n\nThe truncated value of the scalar `x` is the nearest integer `i` which\nis closer to zero than `x` is. In short, the fractional part of the\nsigned number `x` is discarded.\n\nParameters\n----------\nx : array_like\n    Input data.\nout : ndarray, None, or tuple of ndarray and None, optional\n    A location into which the result is stored. If provided, it must have\n    a shape that the inputs broadcast to. If not provided or None,\n    a freshly-allocated array is returned. A tuple (possible only as a\n    keyword argument) must have length equal to the number of outputs.\nwhere : array_like, optional\n    This condition is broadcast over the input. At locations where the\n    condition is True, the `out` array will be set to the ufunc result.\n    Elsewhere, the `out` array will retain its original value.\n    Note that if an uninitialized `out` array is created via the default\n    ``out=None``, locations within it where the condition is False will\n    remain uninitialized.\n**kwargs\n    For other keyword-only arguments, see the\n    :ref:`ufunc docs <ufuncs.kwargs>`.\n\nReturns\n-------\ny : ndarray or scalar\n    The truncated value of each element in `x`.\n    This is a scalar if `x` is a scalar.\n\nSee Also\n--------\nceil, floor, rint\n\nNotes\n-----\n.. versionadded:: 1.3.0\n\nExamples\n--------\n>>> a = np.array([-1.7, -1.5, -0.2, 0.2, 1.5, 1.7, 2.0])\n>>> np.trunc(a)\narray([-1., -1., -0.,  0.,  1.,  1.,  2.])\n"
     ]
    }
   ],
   "source": [
    "np.info(np.trunc)"
   ]
  },
  {
   "cell_type": "markdown",
   "id": "649e89f9",
   "metadata": {},
   "source": [
    "#### 37. Create a 5x5 matrix with row values ranging from 0 to 4 (★★☆)"
   ]
  },
  {
   "cell_type": "code",
   "execution_count": 150,
   "id": "663cc611",
   "metadata": {},
   "outputs": [
    {
     "output_type": "stream",
     "name": "stdout",
     "text": [
      "[[0 1 2 3 4]\n [0 1 2 3 4]\n [0 1 2 3 4]\n [0 1 2 3 4]\n [0 1 2 3 4]]\n[[0. 1. 2. 3. 4.]\n [0. 1. 2. 3. 4.]\n [0. 1. 2. 3. 4.]\n [0. 1. 2. 3. 4.]\n [0. 1. 2. 3. 4.]]\n"
     ]
    }
   ],
   "source": [
    "Z=np.tile(np.arange(5),(5,1))\n",
    "print(Z)\n",
    "\n",
    "# method 2: (better)\n",
    "Z = np.zeros((5,5))\n",
    "Z += np.arange(5)\n",
    "print(Z)"
   ]
  },
  {
   "cell_type": "markdown",
   "id": "3421e17f",
   "metadata": {},
   "source": [
    "#### 38. Consider a generator function that generates 10 integers and use it to build an array (★☆☆)"
   ]
  },
  {
   "cell_type": "code",
   "execution_count": 151,
   "id": "7336b8e4",
   "metadata": {},
   "outputs": [
    {
     "output_type": "stream",
     "name": "stdout",
     "text": [
      "fromiter(iterable, dtype, count=-1, *, like=None)\n\nCreate a new 1-dimensional array from an iterable object.\n\nParameters\n----------\niterable : iterable object\n    An iterable object providing data for the array.\ndtype : data-type\n    The data-type of the returned array.\ncount : int, optional\n    The number of items to read from *iterable*.  The default is -1,\n    which means all data is read.\nlike : array_like\n    Reference object to allow the creation of arrays which are not\n    NumPy arrays. If an array-like passed in as ``like`` supports\n    the ``__array_function__`` protocol, the result will be defined\n    by it. In this case, it ensures the creation of an array object\n    compatible with that passed in via this argument.\n\n    .. note::\n        The ``like`` keyword is an experimental feature pending on\n        acceptance of :ref:`NEP 35 <NEP35>`.\n\n    .. versionadded:: 1.20.0\n\nReturns\n-------\nout : ndarray\n    The output array.\n\nNotes\n-----\nSpecify `count` to improve performance.  It allows ``fromiter`` to\npre-allocate the output array, instead of resizing it on demand.\n\nExamples\n--------\n>>> iterable = (x*x for x in range(5))\n>>> np.fromiter(iterable, float)\narray([  0.,   1.,   4.,   9.,  16.])\n"
     ]
    }
   ],
   "source": [
    "np.info(np.fromiter)"
   ]
  },
  {
   "cell_type": "code",
   "execution_count": 153,
   "metadata": {},
   "outputs": [
    {
     "output_type": "stream",
     "name": "stdout",
     "text": [
      "[0. 1. 2. 3. 4. 5. 6. 7. 8. 9.]\n"
     ]
    }
   ],
   "source": [
    "def generate():\n",
    "    for x in range(10):\n",
    "        yield x\n",
    "Z = np.fromiter(generate(),dtype=float, count=-1)\n",
    "print(Z)"
   ]
  },
  {
   "cell_type": "markdown",
   "id": "483dd554",
   "metadata": {},
   "source": [
    "#### 39. Create a vector of size 10 with values ranging from 0 to 1, both excluded (★★☆)"
   ]
  },
  {
   "cell_type": "code",
   "execution_count": 154,
   "id": "c89b93e7",
   "metadata": {},
   "outputs": [
    {
     "output_type": "stream",
     "name": "stdout",
     "text": [
      "[0.09090909 0.18181818 0.27272727 0.36363636 0.45454545 0.54545455\n 0.63636364 0.72727273 0.81818182 0.90909091]\n"
     ]
    }
   ],
   "source": [
    "Z = np.linspace(0,1,11,endpoint=False)[1:]\n",
    "print(Z)"
   ]
  },
  {
   "cell_type": "code",
   "execution_count": 155,
   "metadata": {},
   "outputs": [
    {
     "output_type": "stream",
     "name": "stdout",
     "text": [
      " linspace(start, stop, num=50, endpoint=True, retstep=False, dtype=None,\n          axis=0)\n\nReturn evenly spaced numbers over a specified interval.\n\nReturns `num` evenly spaced samples, calculated over the\ninterval [`start`, `stop`].\n\nThe endpoint of the interval can optionally be excluded.\n\n.. versionchanged:: 1.16.0\n    Non-scalar `start` and `stop` are now supported.\n\n.. versionchanged:: 1.20.0\n    Values are rounded towards ``-inf`` instead of ``0`` when an\n    integer ``dtype`` is specified. The old behavior can\n    still be obtained with ``np.linspace(start, stop, num).astype(int)``\n\nParameters\n----------\nstart : array_like\n    The starting value of the sequence.\nstop : array_like\n    The end value of the sequence, unless `endpoint` is set to False.\n    In that case, the sequence consists of all but the last of ``num + 1``\n    evenly spaced samples, so that `stop` is excluded.  Note that the step\n    size changes when `endpoint` is False.\nnum : int, optional\n    Number of samples to generate. Default is 50. Must be non-negative.\nendpoint : bool, optional\n    If True, `stop` is the last sample. Otherwise, it is not included.\n    Default is True.\nretstep : bool, optional\n    If True, return (`samples`, `step`), where `step` is the spacing\n    between samples.\ndtype : dtype, optional\n    The type of the output array.  If `dtype` is not given, the data type\n    is inferred from `start` and `stop`. The inferred dtype will never be\n    an integer; `float` is chosen even if the arguments would produce an\n    array of integers.\n\n    .. versionadded:: 1.9.0\n\naxis : int, optional\n    The axis in the result to store the samples.  Relevant only if start\n    or stop are array-like.  By default (0), the samples will be along a\n    new axis inserted at the beginning. Use -1 to get an axis at the end.\n\n    .. versionadded:: 1.16.0\n\nReturns\n-------\nsamples : ndarray\n    There are `num` equally spaced samples in the closed interval\n    ``[start, stop]`` or the half-open interval ``[start, stop)``\n    (depending on whether `endpoint` is True or False).\nstep : float, optional\n    Only returned if `retstep` is True\n\n    Size of spacing between samples.\n\n\nSee Also\n--------\narange : Similar to `linspace`, but uses a step size (instead of the\n         number of samples).\ngeomspace : Similar to `linspace`, but with numbers spaced evenly on a log\n            scale (a geometric progression).\nlogspace : Similar to `geomspace`, but with the end points specified as\n           logarithms.\n\nExamples\n--------\n>>> np.linspace(2.0, 3.0, num=5)\narray([2.  , 2.25, 2.5 , 2.75, 3.  ])\n>>> np.linspace(2.0, 3.0, num=5, endpoint=False)\narray([2. ,  2.2,  2.4,  2.6,  2.8])\n>>> np.linspace(2.0, 3.0, num=5, retstep=True)\n(array([2.  ,  2.25,  2.5 ,  2.75,  3.  ]), 0.25)\n\nGraphical illustration:\n\n>>> import matplotlib.pyplot as plt\n>>> N = 8\n>>> y = np.zeros(N)\n>>> x1 = np.linspace(0, 10, N, endpoint=True)\n>>> x2 = np.linspace(0, 10, N, endpoint=False)\n>>> plt.plot(x1, y, 'o')\n[<matplotlib.lines.Line2D object at 0x...>]\n>>> plt.plot(x2, y + 0.5, 'o')\n[<matplotlib.lines.Line2D object at 0x...>]\n>>> plt.ylim([-0.5, 1])\n(-0.5, 1)\n>>> plt.show()\n"
     ]
    }
   ],
   "source": [
    "np.info(np.linspace)"
   ]
  },
  {
   "cell_type": "markdown",
   "id": "2d07be1c",
   "metadata": {},
   "source": [
    "#### 40. Create a random vector of size 10 and sort it (★★☆)"
   ]
  },
  {
   "cell_type": "code",
   "execution_count": 161,
   "id": "4f7cb3ad",
   "metadata": {},
   "outputs": [
    {
     "output_type": "stream",
     "name": "stdout",
     "text": [
      "[0.06981861 0.15766614 0.31609253 0.37845033 0.55692366 0.63027548\n 0.65474642 0.91326856 0.93576796 0.94322648]\n"
     ]
    }
   ],
   "source": [
    "Z = np.random.random(10)\n",
    "Z.sort()\n",
    "print(Z)"
   ]
  },
  {
   "cell_type": "markdown",
   "id": "6415f02e",
   "metadata": {},
   "source": [
    "#### 41. How to sum a small array faster than np.sum? (★★☆)"
   ]
  },
  {
   "cell_type": "code",
   "execution_count": 163,
   "id": "bb0dd942",
   "metadata": {},
   "outputs": [
    {
     "output_type": "stream",
     "name": "stdout",
     "text": [
      "45\n"
     ]
    }
   ],
   "source": [
    "Z = np.arange(10)\n",
    "a = np.add.reduce(Z)\n",
    "print(a)"
   ]
  },
  {
   "cell_type": "markdown",
   "id": "fe043549",
   "metadata": {},
   "source": [
    "#### 42. Consider two random array A and B, check if they are equal (★★☆)"
   ]
  },
  {
   "cell_type": "code",
   "execution_count": 168,
   "id": "3326a686",
   "metadata": {},
   "outputs": [
    {
     "output_type": "stream",
     "name": "stdout",
     "text": [
      "True\nTrue\n"
     ]
    }
   ],
   "source": [
    "A=np.random.randint(0,2,5)\n",
    "B=np.random.randint(0,2,5)\n",
    "\n",
    "# Assuming identical shape of the arrays and a tolerance for the comparison of values\n",
    "print(np.allclose(A,B))\n",
    "\n",
    "# Checking both the shape and the element values, no tolerance (values have to be exactly equal)\n",
    "print(np.array_equal(A,B))"
   ]
  },
  {
   "cell_type": "markdown",
   "id": "cc08f71c",
   "metadata": {},
   "source": [
    "#### 43. Make an array immutable (read-only) (★★☆)"
   ]
  },
  {
   "cell_type": "code",
   "execution_count": 169,
   "id": "d5cc9dbe",
   "metadata": {},
   "outputs": [
    {
     "output_type": "error",
     "ename": "ValueError",
     "evalue": "assignment destination is read-only",
     "traceback": [
      "\u001b[0;31m---------------------------------------------------------------------------\u001b[0m",
      "\u001b[0;31mValueError\u001b[0m                                Traceback (most recent call last)",
      "\u001b[0;32m<ipython-input-169-dcc5e7f145b5>\u001b[0m in \u001b[0;36m<module>\u001b[0;34m()\u001b[0m\n\u001b[1;32m      1\u001b[0m \u001b[0mZ\u001b[0m \u001b[0;34m=\u001b[0m \u001b[0mnp\u001b[0m\u001b[0;34m.\u001b[0m\u001b[0mzeros\u001b[0m\u001b[0;34m(\u001b[0m\u001b[0;36m10\u001b[0m\u001b[0;34m)\u001b[0m\u001b[0;34m\u001b[0m\u001b[0;34m\u001b[0m\u001b[0m\n\u001b[1;32m      2\u001b[0m \u001b[0mZ\u001b[0m\u001b[0;34m.\u001b[0m\u001b[0mflags\u001b[0m\u001b[0;34m.\u001b[0m\u001b[0mwriteable\u001b[0m \u001b[0;34m=\u001b[0m \u001b[0;32mFalse\u001b[0m\u001b[0;34m\u001b[0m\u001b[0;34m\u001b[0m\u001b[0m\n\u001b[0;32m----> 3\u001b[0;31m \u001b[0mZ\u001b[0m\u001b[0;34m[\u001b[0m\u001b[0;36m0\u001b[0m\u001b[0;34m]\u001b[0m \u001b[0;34m=\u001b[0m \u001b[0;36m1\u001b[0m\u001b[0;34m\u001b[0m\u001b[0;34m\u001b[0m\u001b[0m\n\u001b[0m",
      "\u001b[0;31mValueError\u001b[0m: assignment destination is read-only"
     ]
    }
   ],
   "source": [
    "Z = np.zeros(10)\n",
    "Z.flags.writeable = False\n",
    "Z[0] = 1"
   ]
  },
  {
   "cell_type": "markdown",
   "id": "2002cb03",
   "metadata": {},
   "source": [
    "#### 44. Consider a random 10x2 matrix representing cartesian coordinates, convert them to polar coordinates (★★☆)"
   ]
  },
  {
   "cell_type": "code",
   "execution_count": 171,
   "id": "58be72bc",
   "metadata": {},
   "outputs": [
    {
     "output_type": "stream",
     "name": "stdout",
     "text": [
      "[0.59314534 0.47971265 1.05085672 0.7383304  0.78479207 1.17521219\n 0.4819698  0.90460732 1.17037757 1.17892214]\n[0.43718374 0.85078147 0.60875167 1.49520187 1.17468131 0.80243408\n 0.96668434 1.34047108 0.73465377 0.60103759]\n"
     ]
    }
   ],
   "source": [
    "Z = np.random.random((10,2))\n",
    "X,Y = Z[:,0],Z[:,1]\n",
    "R = np.sqrt(X**2+Y**2)\n",
    "T = np.arctan2(Y,X)\n",
    "print(R)\n",
    "print(T) # in the range ``[-pi, pi]`"
   ]
  },
  {
   "cell_type": "code",
   "execution_count": 172,
   "metadata": {},
   "outputs": [
    {
     "output_type": "stream",
     "name": "stdout",
     "text": [
      "arctan2(x1, x2, /, out=None, *, where=True, casting='same_kind', order='K', dtype=None, subok=True[, signature, extobj])\n\nElement-wise arc tangent of ``x1/x2`` choosing the quadrant correctly.\n\nThe quadrant (i.e., branch) is chosen so that ``arctan2(x1, x2)`` is\nthe signed angle in radians between the ray ending at the origin and\npassing through the point (1,0), and the ray ending at the origin and\npassing through the point (`x2`, `x1`).  (Note the role reversal: the\n\"`y`-coordinate\" is the first function parameter, the \"`x`-coordinate\"\nis the second.)  By IEEE convention, this function is defined for\n`x2` = +/-0 and for either or both of `x1` and `x2` = +/-inf (see\nNotes for specific values).\n\nThis function is not defined for complex-valued arguments; for the\nso-called argument of complex values, use `angle`.\n\nParameters\n----------\nx1 : array_like, real-valued\n    `y`-coordinates.\nx2 : array_like, real-valued\n    `x`-coordinates.\n    If ``x1.shape != x2.shape``, they must be broadcastable to a common\n    shape (which becomes the shape of the output).\nout : ndarray, None, or tuple of ndarray and None, optional\n    A location into which the result is stored. If provided, it must have\n    a shape that the inputs broadcast to. If not provided or None,\n    a freshly-allocated array is returned. A tuple (possible only as a\n    keyword argument) must have length equal to the number of outputs.\nwhere : array_like, optional\n    This condition is broadcast over the input. At locations where the\n    condition is True, the `out` array will be set to the ufunc result.\n    Elsewhere, the `out` array will retain its original value.\n    Note that if an uninitialized `out` array is created via the default\n    ``out=None``, locations within it where the condition is False will\n    remain uninitialized.\n**kwargs\n    For other keyword-only arguments, see the\n    :ref:`ufunc docs <ufuncs.kwargs>`.\n\nReturns\n-------\nangle : ndarray\n    Array of angles in radians, in the range ``[-pi, pi]``.\n    This is a scalar if both `x1` and `x2` are scalars.\n\nSee Also\n--------\narctan, tan, angle\n\nNotes\n-----\n*arctan2* is identical to the `atan2` function of the underlying\nC library.  The following special values are defined in the C\nstandard: [1]_\n\n====== ====== ================\n`x1`   `x2`   `arctan2(x1,x2)`\n====== ====== ================\n+/- 0  +0     +/- 0\n+/- 0  -0     +/- pi\n > 0   +/-inf +0 / +pi\n < 0   +/-inf -0 / -pi\n+/-inf +inf   +/- (pi/4)\n+/-inf -inf   +/- (3*pi/4)\n====== ====== ================\n\nNote that +0 and -0 are distinct floating point numbers, as are +inf\nand -inf.\n\nReferences\n----------\n.. [1] ISO/IEC standard 9899:1999, \"Programming language C.\"\n\nExamples\n--------\nConsider four points in different quadrants:\n\n>>> x = np.array([-1, +1, +1, -1])\n>>> y = np.array([-1, -1, +1, +1])\n>>> np.arctan2(y, x) * 180 / np.pi\narray([-135.,  -45.,   45.,  135.])\n\nNote the order of the parameters. `arctan2` is defined also when `x2` = 0\nand at several other special points, obtaining values in\nthe range ``[-pi, pi]``:\n\n>>> np.arctan2([1., -1.], [0., 0.])\narray([ 1.57079633, -1.57079633])\n>>> np.arctan2([0., 0., np.inf], [+0., -0., np.inf])\narray([ 0.        ,  3.14159265,  0.78539816])\n"
     ]
    }
   ],
   "source": [
    "np.info(np.arctan2)"
   ]
  },
  {
   "cell_type": "markdown",
   "id": "b7109c9f",
   "metadata": {},
   "source": [
    "#### 45. Create random vector of size 10 and replace the maximum value by 0 (★★☆)"
   ]
  },
  {
   "cell_type": "code",
   "execution_count": 173,
   "id": "f79e79a7",
   "metadata": {},
   "outputs": [
    {
     "output_type": "stream",
     "name": "stdout",
     "text": [
      "[0.58176535 0.90590095 0.33408242 0.54540755 0.84558609 0.47204638\n 0.6560933  0.         0.67177563 0.20137161]\n"
     ]
    }
   ],
   "source": [
    "Z=np.random.random(10)\n",
    "Z[Z.argmax()]=0\n",
    "print(Z)"
   ]
  },
  {
   "cell_type": "markdown",
   "id": "7d3131b9",
   "metadata": {},
   "source": [
    "#### 46. Create a structured array with `x` and `y` coordinates covering the [0,1]x[0,1] area (★★☆)"
   ]
  },
  {
   "cell_type": "code",
   "execution_count": 174,
   "id": "4f471afe",
   "metadata": {},
   "outputs": [
    {
     "output_type": "stream",
     "name": "stdout",
     "text": [
      "[[(0.  , 0.  ) (0.25, 0.  ) (0.5 , 0.  ) (0.75, 0.  ) (1.  , 0.  )]\n [(0.  , 0.25) (0.25, 0.25) (0.5 , 0.25) (0.75, 0.25) (1.  , 0.25)]\n [(0.  , 0.5 ) (0.25, 0.5 ) (0.5 , 0.5 ) (0.75, 0.5 ) (1.  , 0.5 )]\n [(0.  , 0.75) (0.25, 0.75) (0.5 , 0.75) (0.75, 0.75) (1.  , 0.75)]\n [(0.  , 1.  ) (0.25, 1.  ) (0.5 , 1.  ) (0.75, 1.  ) (1.  , 1.  )]]\n"
     ]
    }
   ],
   "source": [
    "Z = np.zeros((5,5),[('x',float),('y',float)])\n",
    "Z['x'],Z['y'] = np.meshgrid(np.linspace(0,1,5),\n",
    "                            np.linspace(0,1,5))\n",
    "print(Z)"
   ]
  },
  {
   "cell_type": "markdown",
   "id": "7c8c1fc5",
   "metadata": {},
   "source": [
    "#### 47. Given two arrays, X and Y, construct the Cauchy matrix C (Cij =1/(xi - yj)) (★★☆)"
   ]
  },
  {
   "cell_type": "code",
   "execution_count": 175,
   "id": "8fac7d28",
   "metadata": {},
   "outputs": [
    {
     "output_type": "stream",
     "name": "stdout",
     "text": [
      "outer(A, B, /, **kwargs)\n\nApply the ufunc `op` to all pairs (a, b) with a in `A` and b in `B`.\n\nLet ``M = A.ndim``, ``N = B.ndim``. Then the result, `C`, of\n``op.outer(A, B)`` is an array of dimension M + N such that:\n\n.. math:: C[i_0, ..., i_{M-1}, j_0, ..., j_{N-1}] =\n   op(A[i_0, ..., i_{M-1}], B[j_0, ..., j_{N-1}])\n\nFor `A` and `B` one-dimensional, this is equivalent to::\n\n  r = empty(len(A),len(B))\n  for i in range(len(A)):\n      for j in range(len(B)):\n          r[i,j] = op(A[i], B[j]) # op = ufunc in question\n\nParameters\n----------\nA : array_like\n    First array\nB : array_like\n    Second array\nkwargs : any\n    Arguments to pass on to the ufunc. Typically `dtype` or `out`.\n\nReturns\n-------\nr : ndarray\n    Output array\n\nSee Also\n--------\nnumpy.outer : A less powerful version of ``np.multiply.outer``\n              that `ravel`\\ s all inputs to 1D. This exists\n              primarily for compatibility with old code.\n\ntensordot : ``np.tensordot(a, b, axes=((), ()))`` and\n            ``np.multiply.outer(a, b)`` behave same for all\n            dimensions of a and b.\n\nExamples\n--------\n>>> np.multiply.outer([1, 2, 3], [4, 5, 6])\narray([[ 4,  5,  6],\n       [ 8, 10, 12],\n       [12, 15, 18]])\n\nA multi-dimensional example:\n\n>>> A = np.array([[1, 2, 3], [4, 5, 6]])\n>>> A.shape\n(2, 3)\n>>> B = np.array([[1, 2, 3, 4]])\n>>> B.shape\n(1, 4)\n>>> C = np.multiply.outer(A, B)\n>>> C.shape; C\n(2, 3, 1, 4)\narray([[[[ 1,  2,  3,  4]],\n        [[ 2,  4,  6,  8]],\n        [[ 3,  6,  9, 12]]],\n       [[[ 4,  8, 12, 16]],\n        [[ 5, 10, 15, 20]],\n        [[ 6, 12, 18, 24]]]])\n"
     ]
    }
   ],
   "source": [
    "np.info(np.subtract.outer)"
   ]
  },
  {
   "cell_type": "code",
   "execution_count": 179,
   "metadata": {},
   "outputs": [
    {
     "output_type": "stream",
     "name": "stdout",
     "text": [
      "[[-2.         -0.66666667 -0.4        -0.28571429 -0.22222222]\n [ 2.         -2.         -0.66666667 -0.4        -0.28571429]\n [ 0.66666667  2.         -2.         -0.66666667 -0.4       ]\n [ 0.4         0.66666667  2.         -2.         -0.66666667]\n [ 0.28571429  0.4         0.66666667  2.         -2.        ]]\n-131.91659501325745\n"
     ]
    }
   ],
   "source": [
    "X = np.arange(5)\n",
    "Y = X+0.5\n",
    "C = 1.0 / np.subtract.outer(X,Y)\n",
    "print(C)\n",
    "print(np.linalg.det(C))"
   ]
  },
  {
   "cell_type": "markdown",
   "id": "5795b4bd",
   "metadata": {},
   "source": [
    "#### 48. Print the minimum and maximum representable value for each numpy scalar type (★★☆)"
   ]
  },
  {
   "cell_type": "code",
   "execution_count": 180,
   "id": "b721f7ca",
   "metadata": {},
   "outputs": [
    {
     "output_type": "stream",
     "name": "stdout",
     "text": [
      "-128\n127\n-2147483648\n2147483647\n-9223372036854775808\n9223372036854775807\n-3.4028235e+38\n3.4028235e+38\n1.1920929e-07\n-1.7976931348623157e+308\n1.7976931348623157e+308\n2.220446049250313e-16\n"
     ]
    }
   ],
   "source": [
    "for dtype in [np.int8, np.int32, np.int64]:\n",
    "    print(np.iinfo(dtype).min)\n",
    "    print(np.iinfo(dtype).max)\n",
    "for dtype in [np.float32, np.float64]:\n",
    "    print(np.finfo(dtype).min)\n",
    "    print(np.finfo(dtype).max)\n",
    "    print(np.finfo(dtype).eps)"
   ]
  },
  {
   "cell_type": "markdown",
   "id": "fb24674c",
   "metadata": {},
   "source": [
    "#### 49. How to print all the values of an array? (★★☆)"
   ]
  },
  {
   "cell_type": "code",
   "execution_count": 181,
   "id": "c81f1456",
   "metadata": {},
   "outputs": [
    {
     "output_type": "stream",
     "name": "stdout",
     "text": [
      "[[0. 0. 0. 0. 0. 0. 0. 0. 0. 0. 0. 0. 0. 0. 0. 0. 0. 0. 0. 0. 0. 0. 0. 0.\n  0. 0. 0. 0. 0. 0. 0. 0. 0. 0. 0. 0. 0. 0. 0. 0.]\n [0. 0. 0. 0. 0. 0. 0. 0. 0. 0. 0. 0. 0. 0. 0. 0. 0. 0. 0. 0. 0. 0. 0. 0.\n  0. 0. 0. 0. 0. 0. 0. 0. 0. 0. 0. 0. 0. 0. 0. 0.]\n [0. 0. 0. 0. 0. 0. 0. 0. 0. 0. 0. 0. 0. 0. 0. 0. 0. 0. 0. 0. 0. 0. 0. 0.\n  0. 0. 0. 0. 0. 0. 0. 0. 0. 0. 0. 0. 0. 0. 0. 0.]\n [0. 0. 0. 0. 0. 0. 0. 0. 0. 0. 0. 0. 0. 0. 0. 0. 0. 0. 0. 0. 0. 0. 0. 0.\n  0. 0. 0. 0. 0. 0. 0. 0. 0. 0. 0. 0. 0. 0. 0. 0.]\n [0. 0. 0. 0. 0. 0. 0. 0. 0. 0. 0. 0. 0. 0. 0. 0. 0. 0. 0. 0. 0. 0. 0. 0.\n  0. 0. 0. 0. 0. 0. 0. 0. 0. 0. 0. 0. 0. 0. 0. 0.]\n [0. 0. 0. 0. 0. 0. 0. 0. 0. 0. 0. 0. 0. 0. 0. 0. 0. 0. 0. 0. 0. 0. 0. 0.\n  0. 0. 0. 0. 0. 0. 0. 0. 0. 0. 0. 0. 0. 0. 0. 0.]\n [0. 0. 0. 0. 0. 0. 0. 0. 0. 0. 0. 0. 0. 0. 0. 0. 0. 0. 0. 0. 0. 0. 0. 0.\n  0. 0. 0. 0. 0. 0. 0. 0. 0. 0. 0. 0. 0. 0. 0. 0.]\n [0. 0. 0. 0. 0. 0. 0. 0. 0. 0. 0. 0. 0. 0. 0. 0. 0. 0. 0. 0. 0. 0. 0. 0.\n  0. 0. 0. 0. 0. 0. 0. 0. 0. 0. 0. 0. 0. 0. 0. 0.]\n [0. 0. 0. 0. 0. 0. 0. 0. 0. 0. 0. 0. 0. 0. 0. 0. 0. 0. 0. 0. 0. 0. 0. 0.\n  0. 0. 0. 0. 0. 0. 0. 0. 0. 0. 0. 0. 0. 0. 0. 0.]\n [0. 0. 0. 0. 0. 0. 0. 0. 0. 0. 0. 0. 0. 0. 0. 0. 0. 0. 0. 0. 0. 0. 0. 0.\n  0. 0. 0. 0. 0. 0. 0. 0. 0. 0. 0. 0. 0. 0. 0. 0.]\n [0. 0. 0. 0. 0. 0. 0. 0. 0. 0. 0. 0. 0. 0. 0. 0. 0. 0. 0. 0. 0. 0. 0. 0.\n  0. 0. 0. 0. 0. 0. 0. 0. 0. 0. 0. 0. 0. 0. 0. 0.]\n [0. 0. 0. 0. 0. 0. 0. 0. 0. 0. 0. 0. 0. 0. 0. 0. 0. 0. 0. 0. 0. 0. 0. 0.\n  0. 0. 0. 0. 0. 0. 0. 0. 0. 0. 0. 0. 0. 0. 0. 0.]\n [0. 0. 0. 0. 0. 0. 0. 0. 0. 0. 0. 0. 0. 0. 0. 0. 0. 0. 0. 0. 0. 0. 0. 0.\n  0. 0. 0. 0. 0. 0. 0. 0. 0. 0. 0. 0. 0. 0. 0. 0.]\n [0. 0. 0. 0. 0. 0. 0. 0. 0. 0. 0. 0. 0. 0. 0. 0. 0. 0. 0. 0. 0. 0. 0. 0.\n  0. 0. 0. 0. 0. 0. 0. 0. 0. 0. 0. 0. 0. 0. 0. 0.]\n [0. 0. 0. 0. 0. 0. 0. 0. 0. 0. 0. 0. 0. 0. 0. 0. 0. 0. 0. 0. 0. 0. 0. 0.\n  0. 0. 0. 0. 0. 0. 0. 0. 0. 0. 0. 0. 0. 0. 0. 0.]\n [0. 0. 0. 0. 0. 0. 0. 0. 0. 0. 0. 0. 0. 0. 0. 0. 0. 0. 0. 0. 0. 0. 0. 0.\n  0. 0. 0. 0. 0. 0. 0. 0. 0. 0. 0. 0. 0. 0. 0. 0.]\n [0. 0. 0. 0. 0. 0. 0. 0. 0. 0. 0. 0. 0. 0. 0. 0. 0. 0. 0. 0. 0. 0. 0. 0.\n  0. 0. 0. 0. 0. 0. 0. 0. 0. 0. 0. 0. 0. 0. 0. 0.]\n [0. 0. 0. 0. 0. 0. 0. 0. 0. 0. 0. 0. 0. 0. 0. 0. 0. 0. 0. 0. 0. 0. 0. 0.\n  0. 0. 0. 0. 0. 0. 0. 0. 0. 0. 0. 0. 0. 0. 0. 0.]\n [0. 0. 0. 0. 0. 0. 0. 0. 0. 0. 0. 0. 0. 0. 0. 0. 0. 0. 0. 0. 0. 0. 0. 0.\n  0. 0. 0. 0. 0. 0. 0. 0. 0. 0. 0. 0. 0. 0. 0. 0.]\n [0. 0. 0. 0. 0. 0. 0. 0. 0. 0. 0. 0. 0. 0. 0. 0. 0. 0. 0. 0. 0. 0. 0. 0.\n  0. 0. 0. 0. 0. 0. 0. 0. 0. 0. 0. 0. 0. 0. 0. 0.]\n [0. 0. 0. 0. 0. 0. 0. 0. 0. 0. 0. 0. 0. 0. 0. 0. 0. 0. 0. 0. 0. 0. 0. 0.\n  0. 0. 0. 0. 0. 0. 0. 0. 0. 0. 0. 0. 0. 0. 0. 0.]\n [0. 0. 0. 0. 0. 0. 0. 0. 0. 0. 0. 0. 0. 0. 0. 0. 0. 0. 0. 0. 0. 0. 0. 0.\n  0. 0. 0. 0. 0. 0. 0. 0. 0. 0. 0. 0. 0. 0. 0. 0.]\n [0. 0. 0. 0. 0. 0. 0. 0. 0. 0. 0. 0. 0. 0. 0. 0. 0. 0. 0. 0. 0. 0. 0. 0.\n  0. 0. 0. 0. 0. 0. 0. 0. 0. 0. 0. 0. 0. 0. 0. 0.]\n [0. 0. 0. 0. 0. 0. 0. 0. 0. 0. 0. 0. 0. 0. 0. 0. 0. 0. 0. 0. 0. 0. 0. 0.\n  0. 0. 0. 0. 0. 0. 0. 0. 0. 0. 0. 0. 0. 0. 0. 0.]\n [0. 0. 0. 0. 0. 0. 0. 0. 0. 0. 0. 0. 0. 0. 0. 0. 0. 0. 0. 0. 0. 0. 0. 0.\n  0. 0. 0. 0. 0. 0. 0. 0. 0. 0. 0. 0. 0. 0. 0. 0.]\n [0. 0. 0. 0. 0. 0. 0. 0. 0. 0. 0. 0. 0. 0. 0. 0. 0. 0. 0. 0. 0. 0. 0. 0.\n  0. 0. 0. 0. 0. 0. 0. 0. 0. 0. 0. 0. 0. 0. 0. 0.]\n [0. 0. 0. 0. 0. 0. 0. 0. 0. 0. 0. 0. 0. 0. 0. 0. 0. 0. 0. 0. 0. 0. 0. 0.\n  0. 0. 0. 0. 0. 0. 0. 0. 0. 0. 0. 0. 0. 0. 0. 0.]\n [0. 0. 0. 0. 0. 0. 0. 0. 0. 0. 0. 0. 0. 0. 0. 0. 0. 0. 0. 0. 0. 0. 0. 0.\n  0. 0. 0. 0. 0. 0. 0. 0. 0. 0. 0. 0. 0. 0. 0. 0.]\n [0. 0. 0. 0. 0. 0. 0. 0. 0. 0. 0. 0. 0. 0. 0. 0. 0. 0. 0. 0. 0. 0. 0. 0.\n  0. 0. 0. 0. 0. 0. 0. 0. 0. 0. 0. 0. 0. 0. 0. 0.]\n [0. 0. 0. 0. 0. 0. 0. 0. 0. 0. 0. 0. 0. 0. 0. 0. 0. 0. 0. 0. 0. 0. 0. 0.\n  0. 0. 0. 0. 0. 0. 0. 0. 0. 0. 0. 0. 0. 0. 0. 0.]\n [0. 0. 0. 0. 0. 0. 0. 0. 0. 0. 0. 0. 0. 0. 0. 0. 0. 0. 0. 0. 0. 0. 0. 0.\n  0. 0. 0. 0. 0. 0. 0. 0. 0. 0. 0. 0. 0. 0. 0. 0.]\n [0. 0. 0. 0. 0. 0. 0. 0. 0. 0. 0. 0. 0. 0. 0. 0. 0. 0. 0. 0. 0. 0. 0. 0.\n  0. 0. 0. 0. 0. 0. 0. 0. 0. 0. 0. 0. 0. 0. 0. 0.]\n [0. 0. 0. 0. 0. 0. 0. 0. 0. 0. 0. 0. 0. 0. 0. 0. 0. 0. 0. 0. 0. 0. 0. 0.\n  0. 0. 0. 0. 0. 0. 0. 0. 0. 0. 0. 0. 0. 0. 0. 0.]\n [0. 0. 0. 0. 0. 0. 0. 0. 0. 0. 0. 0. 0. 0. 0. 0. 0. 0. 0. 0. 0. 0. 0. 0.\n  0. 0. 0. 0. 0. 0. 0. 0. 0. 0. 0. 0. 0. 0. 0. 0.]\n [0. 0. 0. 0. 0. 0. 0. 0. 0. 0. 0. 0. 0. 0. 0. 0. 0. 0. 0. 0. 0. 0. 0. 0.\n  0. 0. 0. 0. 0. 0. 0. 0. 0. 0. 0. 0. 0. 0. 0. 0.]\n [0. 0. 0. 0. 0. 0. 0. 0. 0. 0. 0. 0. 0. 0. 0. 0. 0. 0. 0. 0. 0. 0. 0. 0.\n  0. 0. 0. 0. 0. 0. 0. 0. 0. 0. 0. 0. 0. 0. 0. 0.]\n [0. 0. 0. 0. 0. 0. 0. 0. 0. 0. 0. 0. 0. 0. 0. 0. 0. 0. 0. 0. 0. 0. 0. 0.\n  0. 0. 0. 0. 0. 0. 0. 0. 0. 0. 0. 0. 0. 0. 0. 0.]\n [0. 0. 0. 0. 0. 0. 0. 0. 0. 0. 0. 0. 0. 0. 0. 0. 0. 0. 0. 0. 0. 0. 0. 0.\n  0. 0. 0. 0. 0. 0. 0. 0. 0. 0. 0. 0. 0. 0. 0. 0.]\n [0. 0. 0. 0. 0. 0. 0. 0. 0. 0. 0. 0. 0. 0. 0. 0. 0. 0. 0. 0. 0. 0. 0. 0.\n  0. 0. 0. 0. 0. 0. 0. 0. 0. 0. 0. 0. 0. 0. 0. 0.]\n [0. 0. 0. 0. 0. 0. 0. 0. 0. 0. 0. 0. 0. 0. 0. 0. 0. 0. 0. 0. 0. 0. 0. 0.\n  0. 0. 0. 0. 0. 0. 0. 0. 0. 0. 0. 0. 0. 0. 0. 0.]]\n"
     ]
    }
   ],
   "source": [
    "np.set_printoptions(threshold=float('inf'))\n",
    "Z= np.zeros((40,40))\n",
    "print(Z)"
   ]
  },
  {
   "cell_type": "markdown",
   "id": "e6e1ae2f",
   "metadata": {},
   "source": [
    "#### 50. How to find the closest value (to a given scalar) in a vector? (★★☆)"
   ]
  },
  {
   "cell_type": "code",
   "execution_count": 183,
   "id": "73dd91cc",
   "metadata": {},
   "outputs": [
    {
     "output_type": "stream",
     "name": "stdout",
     "text": [
      "49.35267613311238\n49\n"
     ]
    }
   ],
   "source": [
    "Z = np.arange(100)\n",
    "v = np.random.uniform(0,100)\n",
    "print(v) # a scalar\n",
    "index = (np.abs(Z-v)).argmin()\n",
    "print(Z[index])"
   ]
  },
  {
   "cell_type": "markdown",
   "id": "c01f0ecf",
   "metadata": {},
   "source": [
    "#### 51. Create a structured array representing a position (x,y) and a color (r,g,b) (★★☆)"
   ]
  },
  {
   "cell_type": "code",
   "execution_count": 184,
   "id": "fb8017ca",
   "metadata": {},
   "outputs": [
    {
     "output_type": "stream",
     "name": "stdout",
     "text": [
      "[((0., 0.), (0., 0., 0.)) ((0., 0.), (0., 0., 0.))\n",
      " ((0., 0.), (0., 0., 0.)) ((0., 0.), (0., 0., 0.))\n",
      " ((0., 0.), (0., 0., 0.)) ((0., 0.), (0., 0., 0.))]\n",
      "ipykernel_launcher:6: FutureWarning: Passing (type, 1) or '1type' as a synonym of type is deprecated; in a future version of numpy, it will be understood as (type, (1,)) / '(1,)type'.\n"
     ]
    }
   ],
   "source": [
    "Z = np.zeros(6,[('position',[('x',float,1),\n",
    "                              ('y',float,1)])\n",
    "                              ,\n",
    "                 ('color',[('r',float,1),\n",
    "                           ('g',float,1),\n",
    "                           ('b',float,1)])\n",
    "                           ])\n",
    "print(Z)"
   ]
  },
  {
   "cell_type": "markdown",
   "id": "3b64a18b",
   "metadata": {},
   "source": [
    "#### 52. Consider a random vector with shape (100,2) representing coordinates, find point by point distances (★★☆)"
   ]
  },
  {
   "cell_type": "code",
   "execution_count": 185,
   "id": "4b482822",
   "metadata": {},
   "outputs": [
    {
     "output_type": "stream",
     "name": "stdout",
     "text": [
      " atleast_2d(*arys)\n\nView inputs as arrays with at least two dimensions.\n\nParameters\n----------\narys1, arys2, ... : array_like\n    One or more array-like sequences.  Non-array inputs are converted\n    to arrays.  Arrays that already have two or more dimensions are\n    preserved.\n\nReturns\n-------\nres, res2, ... : ndarray\n    An array, or list of arrays, each with ``a.ndim >= 2``.\n    Copies are avoided where possible, and views with two or more\n    dimensions are returned.\n\nSee Also\n--------\natleast_1d, atleast_3d\n\nExamples\n--------\n>>> np.atleast_2d(3.0)\narray([[3.]])\n\n>>> x = np.arange(3.0)\n>>> np.atleast_2d(x)\narray([[0., 1., 2.]])\n>>> np.atleast_2d(x).base is x\nTrue\n\n>>> np.atleast_2d(1, [1, 2], [[1, 2]])\n[array([[1]]), array([[1, 2]]), array([[1, 2]])]\n"
     ]
    }
   ],
   "source": [
    "np.info(np.atleast_2d)"
   ]
  },
  {
   "cell_type": "code",
   "execution_count": 188,
   "metadata": {},
   "outputs": [
    {
     "output_type": "stream",
     "name": "stdout",
     "text": [
      "[[0.         0.77853864 1.16320485 1.13090267 0.33409621]\n [0.77853864 0.         0.71417284 0.63123621 0.45515765]\n [1.16320485 0.71417284 0.         0.09474458 0.87463221]\n [1.13090267 0.63123621 0.09474458 0.         0.82874847]\n [0.33409621 0.45515765 0.87463221 0.82874847 0.        ]]\n"
     ]
    }
   ],
   "source": [
    "Z = np.random.random((5,2))\n",
    "X,Y = np.atleast_2d(Z[:,0],Z[:,1])\n",
    "D = np.sqrt((X-X.T)**2 + (Y-Y.T)**2)\n",
    "print(D)"
   ]
  },
  {
   "cell_type": "markdown",
   "id": "48413134",
   "metadata": {},
   "source": [
    "#### 53. How to convert a float (32 bits) array into an integer (32 bits) in place?"
   ]
  },
  {
   "cell_type": "code",
   "execution_count": 189,
   "id": "5db64b6d",
   "metadata": {},
   "outputs": [
    {
     "output_type": "stream",
     "name": "stdout",
     "text": [
      "[73 39 23 19 26 15 20 57 34 79]\n"
     ]
    }
   ],
   "source": [
    "Z = (np.random.rand(10)*100).astype(np.float32)\n",
    "Y= Z.view(np.int32)\n",
    "Y[:]=Z\n",
    "print(Y)"
   ]
  },
  {
   "cell_type": "markdown",
   "id": "0a532633",
   "metadata": {},
   "source": [
    "#### 54. How to read the following file? (★★☆)\n",
    "```\n",
    "1, 2, 3, 4, 5\n",
    "6,  ,  , 7, 8\n",
    " ,  , 9,10,11\n",
    "```"
   ]
  },
  {
   "cell_type": "code",
   "execution_count": 193,
   "id": "8af4f753",
   "metadata": {},
   "outputs": [
    {
     "output_type": "stream",
     "name": "stdout",
     "text": [
      "[[ 1  2  3  4  5]\n",
      " [ 6 -1 -1  7  8]\n",
      " [-1 -1  9 10 11]]\n",
      "ipykernel_launcher:10: DeprecationWarning: `np.int` is a deprecated alias for the builtin `int`. To silence this warning, use `int` by itself. Doing this will not modify any behavior and is safe. When replacing `np.int`, you may wish to use e.g. `np.int64` or `np.int32` to specify the precision. If you wish to review your current use, check the release note link for additional information.\n",
      "Deprecated in NumPy 1.20; for more details and guidance: https://numpy.org/devdocs/release/1.20.0-notes.html#deprecations\n"
     ]
    }
   ],
   "source": [
    "from io import StringIO\n",
    "\n",
    "# Fake file\n",
    "s = StringIO('''1, 2, 3, 4, 5\n",
    "\n",
    "                6,  ,  , 7, 8\n",
    "\n",
    "                 ,  , 9,10,11\n",
    "''')\n",
    "Z = np.genfromtxt(s, delimiter=\",\", dtype=np.int)\n",
    "print(Z)"
   ]
  },
  {
   "cell_type": "markdown",
   "id": "f98713a6",
   "metadata": {},
   "source": [
    "#### 55. What is the equivalent of enumerate for numpy arrays? (★★☆)"
   ]
  },
  {
   "cell_type": "code",
   "execution_count": 194,
   "id": "64795f84",
   "metadata": {},
   "outputs": [
    {
     "output_type": "stream",
     "name": "stdout",
     "text": [
      "(0, 0) 0\n(0, 1) 1\n(0, 2) 2\n(1, 0) 3\n(1, 1) 4\n(1, 2) 5\n(2, 0) 6\n(2, 1) 7\n(2, 2) 8\n(0, 0) 0\n(0, 1) 1\n(0, 2) 2\n(1, 0) 3\n(1, 1) 4\n(1, 2) 5\n(2, 0) 6\n(2, 1) 7\n(2, 2) 8\n"
     ]
    }
   ],
   "source": [
    "Z = np.arange(9).reshape(3,3)\n",
    "for index, value in np.ndenumerate(Z):\n",
    "    print(index, value)\n",
    "for index in np.ndindex(Z.shape):\n",
    "    print(index, Z[index])"
   ]
  },
  {
   "cell_type": "markdown",
   "id": "1abc7cc8",
   "metadata": {},
   "source": [
    "#### 56. Generate a generic 2D Gaussian-like array (★★☆)"
   ]
  },
  {
   "cell_type": "code",
   "execution_count": 196,
   "id": "42e3a5bc",
   "metadata": {},
   "outputs": [
    {
     "output_type": "stream",
     "name": "stdout",
     "text": [
      "[[-1.         -0.77777778 -0.55555556 -0.33333333 -0.11111111  0.11111111\n   0.33333333  0.55555556  0.77777778  1.        ]\n [-1.         -0.77777778 -0.55555556 -0.33333333 -0.11111111  0.11111111\n   0.33333333  0.55555556  0.77777778  1.        ]\n [-1.         -0.77777778 -0.55555556 -0.33333333 -0.11111111  0.11111111\n   0.33333333  0.55555556  0.77777778  1.        ]\n [-1.         -0.77777778 -0.55555556 -0.33333333 -0.11111111  0.11111111\n   0.33333333  0.55555556  0.77777778  1.        ]\n [-1.         -0.77777778 -0.55555556 -0.33333333 -0.11111111  0.11111111\n   0.33333333  0.55555556  0.77777778  1.        ]\n [-1.         -0.77777778 -0.55555556 -0.33333333 -0.11111111  0.11111111\n   0.33333333  0.55555556  0.77777778  1.        ]\n [-1.         -0.77777778 -0.55555556 -0.33333333 -0.11111111  0.11111111\n   0.33333333  0.55555556  0.77777778  1.        ]\n [-1.         -0.77777778 -0.55555556 -0.33333333 -0.11111111  0.11111111\n   0.33333333  0.55555556  0.77777778  1.        ]\n [-1.         -0.77777778 -0.55555556 -0.33333333 -0.11111111  0.11111111\n   0.33333333  0.55555556  0.77777778  1.        ]\n [-1.         -0.77777778 -0.55555556 -0.33333333 -0.11111111  0.11111111\n   0.33333333  0.55555556  0.77777778  1.        ]]\n[[0.36787944 0.44822088 0.51979489 0.57375342 0.60279818 0.60279818\n  0.57375342 0.51979489 0.44822088 0.36787944]\n [0.44822088 0.54610814 0.63331324 0.69905581 0.73444367 0.73444367\n  0.69905581 0.63331324 0.54610814 0.44822088]\n [0.51979489 0.63331324 0.73444367 0.81068432 0.85172308 0.85172308\n  0.81068432 0.73444367 0.63331324 0.51979489]\n [0.57375342 0.69905581 0.81068432 0.89483932 0.9401382  0.9401382\n  0.89483932 0.81068432 0.69905581 0.57375342]\n [0.60279818 0.73444367 0.85172308 0.9401382  0.98773022 0.98773022\n  0.9401382  0.85172308 0.73444367 0.60279818]\n [0.60279818 0.73444367 0.85172308 0.9401382  0.98773022 0.98773022\n  0.9401382  0.85172308 0.73444367 0.60279818]\n [0.57375342 0.69905581 0.81068432 0.89483932 0.9401382  0.9401382\n  0.89483932 0.81068432 0.69905581 0.57375342]\n [0.51979489 0.63331324 0.73444367 0.81068432 0.85172308 0.85172308\n  0.81068432 0.73444367 0.63331324 0.51979489]\n [0.44822088 0.54610814 0.63331324 0.69905581 0.73444367 0.73444367\n  0.69905581 0.63331324 0.54610814 0.44822088]\n [0.36787944 0.44822088 0.51979489 0.57375342 0.60279818 0.60279818\n  0.57375342 0.51979489 0.44822088 0.36787944]]\n"
     ]
    }
   ],
   "source": [
    "X, Y = np.meshgrid(np.linspace(-1,1,10), np.linspace(-1,1,10))\n",
    "print(X)\n",
    "D = np.sqrt(X*X+Y*Y)\n",
    "sigma, mu = 1.0, 0.0\n",
    "G = np.exp(-( (D-mu)**2 / ( 2.0 * sigma**2 ) ) )\n",
    "print(G)"
   ]
  },
  {
   "cell_type": "markdown",
   "id": "0cf413ee",
   "metadata": {},
   "source": [
    "#### 57. How to randomly place p elements in a 2D array? (★★☆)"
   ]
  },
  {
   "cell_type": "code",
   "execution_count": 200,
   "id": "dfc57e06",
   "metadata": {},
   "outputs": [
    {
     "output_type": "stream",
     "name": "stdout",
     "text": [
      "[[1. 0. 0. 0. 0.]\n [0. 0. 0. 1. 0.]\n [0. 0. 0. 0. 0.]\n [0. 0. 0. 1. 0.]\n [0. 0. 0. 0. 0.]]\n"
     ]
    }
   ],
   "source": [
    "n=5\n",
    "v=3\n",
    "Z=np.zeros((n,n))\n",
    "np.put(Z,np.random.choice(range(n*n),v,replace=False),1)\n",
    "print(Z)"
   ]
  },
  {
   "cell_type": "code",
   "execution_count": 199,
   "metadata": {},
   "outputs": [
    {
     "output_type": "stream",
     "name": "stdout",
     "text": [
      " put(a, ind, v, mode='raise')\n\nReplaces specified elements of an array with given values.\n\nThe indexing works on the flattened target array. `put` is roughly\nequivalent to:\n\n::\n\n    a.flat[ind] = v\n\nParameters\n----------\na : ndarray\n    Target array.\nind : array_like\n    Target indices, interpreted as integers.\nv : array_like\n    Values to place in `a` at target indices. If `v` is shorter than\n    `ind` it will be repeated as necessary.\nmode : {'raise', 'wrap', 'clip'}, optional\n    Specifies how out-of-bounds indices will behave.\n\n    * 'raise' -- raise an error (default)\n    * 'wrap' -- wrap around\n    * 'clip' -- clip to the range\n\n    'clip' mode means that all indices that are too large are replaced\n    by the index that addresses the last element along that axis. Note\n    that this disables indexing with negative numbers. In 'raise' mode,\n    if an exception occurs the target array may still be modified.\n\nSee Also\n--------\nputmask, place\nput_along_axis : Put elements by matching the array and the index arrays\n\nExamples\n--------\n>>> a = np.arange(5)\n>>> np.put(a, [0, 2], [-44, -55])\n>>> a\narray([-44,   1, -55,   3,   4])\n\n>>> a = np.arange(5)\n>>> np.put(a, 22, -5, mode='clip')\n>>> a\narray([ 0,  1,  2,  3, -5])\n"
     ]
    }
   ],
   "source": [
    "np.info(np.put)"
   ]
  },
  {
   "cell_type": "markdown",
   "id": "215b6acc",
   "metadata": {},
   "source": [
    "#### 58. Subtract the mean of each row of a matrix (★★☆)"
   ]
  },
  {
   "cell_type": "code",
   "execution_count": 203,
   "id": "dd1adef4",
   "metadata": {},
   "outputs": [
    {
     "output_type": "stream",
     "name": "stdout",
     "text": [
      "[[-0.14413451  0.08076658  0.06336793]\n [ 0.13237265 -0.06269107 -0.06968158]\n [ 0.15118017 -0.08752624 -0.06365393]]\n"
     ]
    }
   ],
   "source": [
    "X = np.random.rand(3, 3)\n",
    "Y = X - X.mean(axis=1, keepdims=True)\n",
    "print(Y)"
   ]
  },
  {
   "cell_type": "markdown",
   "id": "c0cf37e0",
   "metadata": {},
   "source": [
    "#### 59. How to sort an array by the nth column? (★★☆)"
   ]
  },
  {
   "cell_type": "code",
   "execution_count": 210,
   "id": "9336ca5f",
   "metadata": {},
   "outputs": [
    {
     "output_type": "stream",
     "name": "stdout",
     "text": [
      "[[7 3 2]\n [7 2 1]\n [0 7 4]]\n[1 0 2]\n[[7 2 1]\n [7 3 2]\n [0 7 4]]\n"
     ]
    }
   ],
   "source": [
    "Z = np.random.randint(0,10,(3,3))\n",
    "print(Z)\n",
    "print(Z[:,1].argsort())\n",
    "print(Z[Z[:,1].argsort()])\n",
    "#print(Z.sort(axis=Z[:,1])"
   ]
  },
  {
   "cell_type": "code",
   "execution_count": 207,
   "metadata": {},
   "outputs": [
    {
     "output_type": "stream",
     "name": "stdout",
     "text": [
      " sort(a, axis=-1, kind=None, order=None)\n\nReturn a sorted copy of an array.\n\nParameters\n----------\na : array_like\n    Array to be sorted.\naxis : int or None, optional\n    Axis along which to sort. If None, the array is flattened before\n    sorting. The default is -1, which sorts along the last axis.\nkind : {'quicksort', 'mergesort', 'heapsort', 'stable'}, optional\n    Sorting algorithm. The default is 'quicksort'. Note that both 'stable'\n    and 'mergesort' use timsort or radix sort under the covers and, in general,\n    the actual implementation will vary with data type. The 'mergesort' option\n    is retained for backwards compatibility.\n\n    .. versionchanged:: 1.15.0.\n       The 'stable' option was added.\n\norder : str or list of str, optional\n    When `a` is an array with fields defined, this argument specifies\n    which fields to compare first, second, etc.  A single field can\n    be specified as a string, and not all fields need be specified,\n    but unspecified fields will still be used, in the order in which\n    they come up in the dtype, to break ties.\n\nReturns\n-------\nsorted_array : ndarray\n    Array of the same type and shape as `a`.\n\nSee Also\n--------\nndarray.sort : Method to sort an array in-place.\nargsort : Indirect sort.\nlexsort : Indirect stable sort on multiple keys.\nsearchsorted : Find elements in a sorted array.\npartition : Partial sort.\n\nNotes\n-----\nThe various sorting algorithms are characterized by their average speed,\nworst case performance, work space size, and whether they are stable. A\nstable sort keeps items with the same key in the same relative\norder. The four algorithms implemented in NumPy have the following\nproperties:\n\n=========== ======= ============= ============ ========\n   kind      speed   worst case    work space   stable\n=========== ======= ============= ============ ========\n'quicksort'    1     O(n^2)            0          no\n'heapsort'     3     O(n*log(n))       0          no\n'mergesort'    2     O(n*log(n))      ~n/2        yes\n'timsort'      2     O(n*log(n))      ~n/2        yes\n=========== ======= ============= ============ ========\n\n.. note:: The datatype determines which of 'mergesort' or 'timsort'\n   is actually used, even if 'mergesort' is specified. User selection\n   at a finer scale is not currently available.\n\nAll the sort algorithms make temporary copies of the data when\nsorting along any but the last axis.  Consequently, sorting along\nthe last axis is faster and uses less space than sorting along\nany other axis.\n\nThe sort order for complex numbers is lexicographic. If both the real\nand imaginary parts are non-nan then the order is determined by the\nreal parts except when they are equal, in which case the order is\ndetermined by the imaginary parts.\n\nPrevious to numpy 1.4.0 sorting real and complex arrays containing nan\nvalues led to undefined behaviour. In numpy versions >= 1.4.0 nan\nvalues are sorted to the end. The extended sort order is:\n\n  * Real: [R, nan]\n  * Complex: [R + Rj, R + nanj, nan + Rj, nan + nanj]\n\nwhere R is a non-nan real value. Complex values with the same nan\nplacements are sorted according to the non-nan part if it exists.\nNon-nan values are sorted as before.\n\n.. versionadded:: 1.12.0\n\nquicksort has been changed to `introsort <https://en.wikipedia.org/wiki/Introsort>`_.\nWhen sorting does not make enough progress it switches to\n`heapsort <https://en.wikipedia.org/wiki/Heapsort>`_.\nThis implementation makes quicksort O(n*log(n)) in the worst case.\n\n'stable' automatically chooses the best stable sorting algorithm\nfor the data type being sorted.\nIt, along with 'mergesort' is currently mapped to\n`timsort <https://en.wikipedia.org/wiki/Timsort>`_\nor `radix sort <https://en.wikipedia.org/wiki/Radix_sort>`_\ndepending on the data type.\nAPI forward compatibility currently limits the\nability to select the implementation and it is hardwired for the different\ndata types.\n\n.. versionadded:: 1.17.0\n\nTimsort is added for better performance on already or nearly\nsorted data. On random data timsort is almost identical to\nmergesort. It is now used for stable sort while quicksort is still the\ndefault sort if none is chosen. For timsort details, refer to\n`CPython listsort.txt <https://github.com/python/cpython/blob/3.7/Objects/listsort.txt>`_.\n'mergesort' and 'stable' are mapped to radix sort for integer data types. Radix sort is an\nO(n) sort instead of O(n log n).\n\n.. versionchanged:: 1.18.0\n\nNaT now sorts to the end of arrays for consistency with NaN.\n\nExamples\n--------\n>>> a = np.array([[1,4],[3,1]])\n>>> np.sort(a)                # sort along the last axis\narray([[1, 4],\n       [1, 3]])\n>>> np.sort(a, axis=None)     # sort the flattened array\narray([1, 1, 3, 4])\n>>> np.sort(a, axis=0)        # sort along the first axis\narray([[1, 1],\n       [3, 4]])\n\nUse the `order` keyword to specify a field to use when sorting a\nstructured array:\n\n>>> dtype = [('name', 'S10'), ('height', float), ('age', int)]\n>>> values = [('Arthur', 1.8, 41), ('Lancelot', 1.9, 38),\n...           ('Galahad', 1.7, 38)]\n>>> a = np.array(values, dtype=dtype)       # create a structured array\n>>> np.sort(a, order='height')                        # doctest: +SKIP\narray([('Galahad', 1.7, 38), ('Arthur', 1.8, 41),\n       ('Lancelot', 1.8999999999999999, 38)],\n      dtype=[('name', '|S10'), ('height', '<f8'), ('age', '<i4')])\n\nSort by age, then height if ages are equal:\n\n>>> np.sort(a, order=['age', 'height'])               # doctest: +SKIP\narray([('Galahad', 1.7, 38), ('Lancelot', 1.8999999999999999, 38),\n       ('Arthur', 1.8, 41)],\n      dtype=[('name', '|S10'), ('height', '<f8'), ('age', '<i4')])\n"
     ]
    }
   ],
   "source": [
    "np.info(np.sort)"
   ]
  },
  {
   "cell_type": "markdown",
   "id": "c17fb213",
   "metadata": {},
   "source": [
    "#### 60. How to tell if a given 2D array has null columns? (★★☆)"
   ]
  },
  {
   "cell_type": "code",
   "execution_count": 219,
   "id": "7fdda78d",
   "metadata": {},
   "outputs": [
    {
     "output_type": "stream",
     "name": "stdout",
     "text": [
      "[[2 0 1 0 0 2 1 1 1 1]\n [1 1 1 2 1 1 2 2 2 0]\n [0 1 1 2 2 2 2 0 1 1]]\nFalse\n"
     ]
    }
   ],
   "source": [
    "Z = np.random.randint(0,3,(3,10))\n",
    "print(Z)\n",
    "print((~Z.any(axis=0)).any())"
   ]
  },
  {
   "cell_type": "code",
   "execution_count": 213,
   "metadata": {},
   "outputs": [
    {
     "output_type": "stream",
     "name": "stdout",
     "text": [
      " any(a, axis=None, out=None, keepdims=<no value>, *, where=<no value>)\n\nTest whether any array element along a given axis evaluates to True.\n\nReturns single boolean unless `axis` is not ``None``\n\nParameters\n----------\na : array_like\n    Input array or object that can be converted to an array.\naxis : None or int or tuple of ints, optional\n    Axis or axes along which a logical OR reduction is performed.\n    The default (``axis=None``) is to perform a logical OR over all\n    the dimensions of the input array. `axis` may be negative, in\n    which case it counts from the last to the first axis.\n\n    .. versionadded:: 1.7.0\n\n    If this is a tuple of ints, a reduction is performed on multiple\n    axes, instead of a single axis or all the axes as before.\nout : ndarray, optional\n    Alternate output array in which to place the result.  It must have\n    the same shape as the expected output and its type is preserved\n    (e.g., if it is of type float, then it will remain so, returning\n    1.0 for True and 0.0 for False, regardless of the type of `a`).\n    See :ref:`ufuncs-output-type` for more details.\n\nkeepdims : bool, optional\n    If this is set to True, the axes which are reduced are left\n    in the result as dimensions with size one. With this option,\n    the result will broadcast correctly against the input array.\n\n    If the default value is passed, then `keepdims` will not be\n    passed through to the `any` method of sub-classes of\n    `ndarray`, however any non-default value will be.  If the\n    sub-class' method does not implement `keepdims` any\n    exceptions will be raised.\n\nwhere : array_like of bool, optional\n    Elements to include in checking for any `True` values.\n    See `~numpy.ufunc.reduce` for details.\n\n    .. versionadded:: 1.20.0\n\nReturns\n-------\nany : bool or ndarray\n    A new boolean or `ndarray` is returned unless `out` is specified,\n    in which case a reference to `out` is returned.\n\nSee Also\n--------\nndarray.any : equivalent method\n\nall : Test whether all elements along a given axis evaluate to True.\n\nNotes\n-----\nNot a Number (NaN), positive infinity and negative infinity evaluate\nto `True` because these are not equal to zero.\n\nExamples\n--------\n>>> np.any([[True, False], [True, True]])\nTrue\n\n>>> np.any([[True, False], [False, False]], axis=0)\narray([ True, False])\n\n>>> np.any([-1, 0, 5])\nTrue\n\n>>> np.any(np.nan)\nTrue\n\n>>> np.any([[True, False], [False, False]], where=[[False], [True]])\nFalse\n\n>>> o=np.array(False)\n>>> z=np.any([-1, 4, 5], out=o)\n>>> z, o\n(array(True), array(True))\n>>> # Check now that z is a reference to o\n>>> z is o\nTrue\n>>> id(z), id(o) # identity of z and o              # doctest: +SKIP\n(191614240, 191614240)\n"
     ]
    }
   ],
   "source": [
    "np.info(np.any)"
   ]
  },
  {
   "cell_type": "markdown",
   "id": "8aaab886",
   "metadata": {},
   "source": [
    "#### 61. Find the nearest value from a given value in an array (★★☆)"
   ]
  },
  {
   "cell_type": "code",
   "execution_count": 224,
   "id": "973f8079",
   "metadata": {},
   "outputs": [
    {
     "output_type": "stream",
     "name": "stdout",
     "text": [
      "1\n0.5068557181012017\n"
     ]
    }
   ],
   "source": [
    "Z = np.random.uniform(0,1,10)\n",
    "z = 0.5\n",
    "print(np.abs(Z - z).argmin())\n",
    "m = Z.flat[np.abs(Z - z).argmin()]\n",
    "print(m)"
   ]
  },
  {
   "cell_type": "code",
   "execution_count": 223,
   "metadata": {},
   "outputs": [
    {
     "output_type": "stream",
     "name": "stdout",
     "text": [
      "A 1-D iterator over the array.\n\nThis is a `numpy.flatiter` instance, which acts similarly to, but is not\na subclass of, Python's built-in iterator object.\n\nSee Also\n--------\nflatten : Return a copy of the array collapsed into one dimension.\n\nflatiter\n\nExamples\n--------\n>>> x = np.arange(1, 7).reshape(2, 3)\n>>> x\narray([[1, 2, 3],\n       [4, 5, 6]])\n>>> x.flat[3]\n4\n>>> x.T\narray([[1, 4],\n       [2, 5],\n       [3, 6]])\n>>> x.T.flat[3]\n5\n>>> type(x.flat)\n<class 'numpy.flatiter'>\n\nAn assignment example:\n\n>>> x.flat = 3; x\narray([[3, 3, 3],\n       [3, 3, 3]])\n>>> x.flat[[1,4]] = 1; x\narray([[3, 1, 3],\n       [3, 1, 3]])\n"
     ]
    }
   ],
   "source": [
    "np.info(np.ndarray.flat)"
   ]
  },
  {
   "cell_type": "markdown",
   "id": "66a04e2e",
   "metadata": {},
   "source": [
    "#### 62. Considering two arrays with shape (1,3) and (3,1), how to compute their sum using an iterator? (★★☆)"
   ]
  },
  {
   "cell_type": "code",
   "execution_count": 234,
   "id": "4b356632",
   "metadata": {},
   "outputs": [
    {
     "output_type": "stream",
     "name": "stdout",
     "text": [
      "[[0]\n [1]\n [2]]\n[[0 1 2]]\n[[0 1 2]\n [1 2 3]\n [2 3 4]]\n"
     ]
    }
   ],
   "source": [
    "A = np.arange(3).reshape(3,1)\n",
    "B = np.arange(3).reshape(1,3)\n",
    "it = np.nditer([A,B,None])\n",
    "for x,y,z in it: \n",
    "    z[...] = x + y\n",
    "    #z = x + y\n",
    "print(it.operands[0])\n",
    "print(it.operands[1])\n",
    "print(it.operands[2])"
   ]
  },
  {
   "cell_type": "markdown",
   "id": "f4427f7f",
   "metadata": {},
   "source": [
    "#### 63. Create an array class that has a name attribute (★★☆)"
   ]
  },
  {
   "cell_type": "code",
   "execution_count": 254,
   "id": "fe253212",
   "metadata": {},
   "outputs": [
    {
     "output_type": "stream",
     "name": "stdout",
     "text": [
      "range_10\n"
     ]
    }
   ],
   "source": [
    "class NamedArray(np.ndarray):\n",
    "    def __new__(cls, array, name=\"no name\"):\n",
    "        obj = np.asarray(array).view(cls)\n",
    "        obj.name = name\n",
    "        return obj\n",
    "\n",
    "Z = NamedArray(np.arange(10), \"range_10\")\n",
    "print(Z.name)"
   ]
  },
  {
   "cell_type": "markdown",
   "id": "58be9dd4",
   "metadata": {},
   "source": [
    "#### 64. Consider a given vector, how to add 1 to each element indexed by a second vector (be careful with repeated indices)? (★★★)"
   ]
  },
  {
   "cell_type": "code",
   "execution_count": 258,
   "id": "5c8bae42",
   "metadata": {},
   "outputs": [
    {
     "output_type": "stream",
     "name": "stdout",
     "text": [
      "[4. 3. 3. 4. 3. 1. 2. 3. 3. 4.]\n[4. 3. 3. 4. 3. 1. 2. 3. 3. 4.]\n"
     ]
    }
   ],
   "source": [
    "\n",
    "Z = np.ones(10)\n",
    "I = np.random.randint(0,len(Z),20)\n",
    "\n",
    "# method 1:\n",
    "Z += np.bincount(I, minlength=len(Z))\n",
    "print(Z)\n",
    "\n",
    "# method 2:\n",
    "np.add.at(Z, I, 1)\n",
    "print(Z)"
   ]
  },
  {
   "cell_type": "code",
   "execution_count": 257,
   "metadata": {},
   "outputs": [
    {
     "output_type": "stream",
     "name": "stdout",
     "text": [
      " bincount()\n\nbincount(x, weights=None, minlength=0)\n\nCount number of occurrences of each value in array of non-negative ints.\n\nThe number of bins (of size 1) is one larger than the largest value in\n`x`. If `minlength` is specified, there will be at least this number\nof bins in the output array (though it will be longer if necessary,\ndepending on the contents of `x`).\nEach bin gives the number of occurrences of its index value in `x`.\nIf `weights` is specified the input array is weighted by it, i.e. if a\nvalue ``n`` is found at position ``i``, ``out[n] += weight[i]`` instead\nof ``out[n] += 1``.\n\nParameters\n----------\nx : array_like, 1 dimension, nonnegative ints\n    Input array.\nweights : array_like, optional\n    Weights, array of the same shape as `x`.\nminlength : int, optional\n    A minimum number of bins for the output array.\n\n    .. versionadded:: 1.6.0\n\nReturns\n-------\nout : ndarray of ints\n    The result of binning the input array.\n    The length of `out` is equal to ``np.amax(x)+1``.\n\nRaises\n------\nValueError\n    If the input is not 1-dimensional, or contains elements with negative\n    values, or if `minlength` is negative.\nTypeError\n    If the type of the input is float or complex.\n\nSee Also\n--------\nhistogram, digitize, unique\n\nExamples\n--------\n>>> np.bincount(np.arange(5))\narray([1, 1, 1, 1, 1])\n>>> np.bincount(np.array([0, 1, 1, 3, 2, 1, 7]))\narray([1, 3, 1, 1, 0, 0, 0, 1])\n\n>>> x = np.array([0, 1, 1, 3, 2, 1, 7, 23])\n>>> np.bincount(x).size == np.amax(x)+1\nTrue\n\nThe input array needs to be of integer dtype, otherwise a\nTypeError is raised:\n\n>>> np.bincount(np.arange(5, dtype=float))\nTraceback (most recent call last):\n  ...\nTypeError: Cannot cast array data from dtype('float64') to dtype('int64')\naccording to the rule 'safe'\n\nA possible use of ``bincount`` is to perform sums over\nvariable-size chunks of an array, using the ``weights`` keyword.\n\n>>> w = np.array([0.3, 0.5, 0.2, 0.7, 1., -0.6]) # weights\n>>> x = np.array([0, 1, 1, 2, 2, 2])\n>>> np.bincount(x,  weights=w)\narray([ 0.3,  0.7,  1.1])\n"
     ]
    }
   ],
   "source": [
    "np.info(np.bincount)"
   ]
  },
  {
   "cell_type": "markdown",
   "id": "7348abd0",
   "metadata": {},
   "source": [
    "#### 65. How to accumulate elements of a vector (X) to an array (F) based on an index list (I)? (★★★)"
   ]
  },
  {
   "cell_type": "code",
   "execution_count": 259,
   "id": "b3e33a5a",
   "metadata": {},
   "outputs": [
    {
     "output_type": "stream",
     "name": "stdout",
     "text": [
      "[0. 7. 0. 6. 5. 0. 0. 0. 0. 3.]\n"
     ]
    }
   ],
   "source": [
    "X = [1,2,3,4,5,6] # weights\n",
    "I = [1,3,9,3,4,1] # bins\n",
    "F = np.bincount(I,X)\n",
    "print(F)"
   ]
  },
  {
   "cell_type": "markdown",
   "id": "538e651c",
   "metadata": {},
   "source": [
    "#### 66. Considering a (w,h,3) image of (dtype=ubyte), compute the number of unique colors (★★☆)"
   ]
  },
  {
   "cell_type": "code",
   "execution_count": 267,
   "id": "57f2f02f",
   "metadata": {},
   "outputs": [
    {
     "output_type": "stream",
     "name": "stdout",
     "text": [
      "64\n64\n"
     ]
    }
   ],
   "source": [
    "w, h = 256, 256\n",
    "I = np.random.randint(0, 4, (h, w, 3)).astype(np.ubyte)\n",
    "colors = np.unique(I.reshape(-1, 3), axis=0)\n",
    "n = len(colors)\n",
    "print(n)\n",
    "\n",
    "# Faster version\n",
    "w, h = 256, 256\n",
    "I = np.random.randint(0,4,(h,w,3), dtype=np.uint8)\n",
    "# View each pixel as a single 24-bit integer, rather than three 8-bit bytes\n",
    "I24 = np.dot(I.astype(np.uint32),[1,256,65536])\n",
    "# Count unique colours\n",
    "n = len(np.unique(I24))\n",
    "print(n)"
   ]
  },
  {
   "cell_type": "markdown",
   "id": "33c986d9",
   "metadata": {},
   "source": [
    "#### 67. Considering a four dimensions array, how to get sum over the last two axis at once? (★★★)"
   ]
  },
  {
   "cell_type": "code",
   "execution_count": 271,
   "id": "a99a50e2",
   "metadata": {},
   "outputs": [
    {
     "output_type": "stream",
     "name": "stdout",
     "text": [
      "[[66 54 63 68]\n [50 37 62 49]\n [52 47 46 69]]\n(3, 4)\n[[66 54 63 68]\n [50 37 62 49]\n [52 47 46 69]]\n"
     ]
    }
   ],
   "source": [
    "A = np.random.randint(0,10,(3,4,3,4))\n",
    "# solution by passing a tuple of axes (introduced in numpy 1.7.0)\n",
    "sum = A.sum(axis=(-2,-1))\n",
    "print(sum)\n",
    "# solution by flattening the last two dimensions into one\n",
    "# (useful for functions that don't accept tuples for axis argument)\n",
    "print(A.shape[:-2])\n",
    "sum = A.reshape(A.shape[:-2] + (-1,)).sum(axis=-1)\n",
    "print(sum)"
   ]
  },
  {
   "cell_type": "markdown",
   "id": "00eb27c4",
   "metadata": {},
   "source": [
    "#### 68. Considering a one-dimensional vector D, how to compute means of subsets of D using a vector S of same size describing subset  indices? (★★★)"
   ]
  },
  {
   "cell_type": "code",
   "execution_count": 273,
   "id": "d48c5210",
   "metadata": {},
   "outputs": [
    {
     "output_type": "stream",
     "name": "stdout",
     "text": [
      "[0.40578762 0.59844953 0.53219495 0.49587103 0.62898184 0.49547753\n 0.6129585  0.58205579 0.41677446 0.50553014]\n"
     ]
    }
   ],
   "source": [
    "D = np.random.uniform(0,1,100)\n",
    "S = np.random.randint(0,10,100)\n",
    "D_sums = np.bincount(S, weights=D)\n",
    "D_counts = np.bincount(S)\n",
    "D_means = D_sums / D_counts\n",
    "print(D_means)"
   ]
  },
  {
   "cell_type": "markdown",
   "id": "928a1a15",
   "metadata": {},
   "source": [
    "#### 69. How to get the diagonal of a dot product? (★★★)"
   ]
  },
  {
   "cell_type": "code",
   "execution_count": 277,
   "id": "ef2c9ddd",
   "metadata": {},
   "outputs": [
    {
     "output_type": "stream",
     "name": "stdout",
     "text": [
      "[0.95844272 0.99617936 0.68570052 1.68588502 0.50751204]\n[0.95844272 0.99617936 0.68570052 1.68588502 0.50751204]\n[0.95844272 0.99617936 0.68570052 1.68588502 0.50751204]\n"
     ]
    }
   ],
   "source": [
    "A = np.random.uniform(0,1,(5,5))\n",
    "B = np.random.uniform(0,1,(5,5))\n",
    "\n",
    "# Slow version\n",
    "Z1=np.diag(np.dot(A, B))\n",
    "print(Z1)\n",
    "# Fast version\n",
    "Z2=np.sum(A * B.T, axis=1)\n",
    "print(Z2)\n",
    "# Faster version\n",
    "Z3=np.einsum(\"ij,ji->i\", A, B)\n",
    "print(Z3)"
   ]
  },
  {
   "cell_type": "markdown",
   "id": "5143f7f3",
   "metadata": {},
   "source": [
    "#### 70. Consider the vector [1, 2, 3, 4, 5], how to build a new vector with 3 consecutive zeros interleaved between each value? (★★★)"
   ]
  },
  {
   "cell_type": "code",
   "execution_count": 278,
   "id": "1d99a1c1",
   "metadata": {},
   "outputs": [
    {
     "output_type": "stream",
     "name": "stdout",
     "text": [
      "[1. 0. 0. 0. 2. 0. 0. 0. 3. 0. 0. 0. 4. 0. 0. 0. 5.]\n"
     ]
    }
   ],
   "source": [
    "Z = np.array([1,2,3,4,5])\n",
    "nz = 3\n",
    "Z0 = np.zeros(len(Z) + (len(Z)-1)*(nz))\n",
    "Z0[::nz+1] = Z\n",
    "print(Z0)"
   ]
  },
  {
   "cell_type": "markdown",
   "id": "f62551d8",
   "metadata": {},
   "source": [
    "#### 71. Consider an array of dimension (5,5,3), how to mulitply it by an array with dimensions (5,5)? (★★★)"
   ]
  },
  {
   "cell_type": "code",
   "execution_count": 279,
   "id": "9ab241b7",
   "metadata": {},
   "outputs": [
    {
     "output_type": "stream",
     "name": "stdout",
     "text": [
      "[[[2. 2. 2.]\n  [2. 2. 2.]\n  [2. 2. 2.]\n  [2. 2. 2.]\n  [2. 2. 2.]]\n\n [[2. 2. 2.]\n  [2. 2. 2.]\n  [2. 2. 2.]\n  [2. 2. 2.]\n  [2. 2. 2.]]\n\n [[2. 2. 2.]\n  [2. 2. 2.]\n  [2. 2. 2.]\n  [2. 2. 2.]\n  [2. 2. 2.]]\n\n [[2. 2. 2.]\n  [2. 2. 2.]\n  [2. 2. 2.]\n  [2. 2. 2.]\n  [2. 2. 2.]]\n\n [[2. 2. 2.]\n  [2. 2. 2.]\n  [2. 2. 2.]\n  [2. 2. 2.]\n  [2. 2. 2.]]]\n"
     ]
    }
   ],
   "source": [
    "A = np.ones((5,5,3))\n",
    "B = 2*np.ones((5,5))\n",
    "print(A * B[:,:,None])"
   ]
  },
  {
   "cell_type": "markdown",
   "id": "6896e326",
   "metadata": {},
   "source": [
    "#### 72. How to swap two rows of an array? (★★★)"
   ]
  },
  {
   "cell_type": "code",
   "execution_count": 280,
   "id": "9e8fcba9",
   "metadata": {},
   "outputs": [
    {
     "output_type": "stream",
     "name": "stdout",
     "text": [
      "[[ 5  6  7  8  9]\n [ 0  1  2  3  4]\n [10 11 12 13 14]\n [15 16 17 18 19]\n [20 21 22 23 24]]\n"
     ]
    }
   ],
   "source": [
    "A = np.arange(25).reshape(5,5)\n",
    "A[[0,1]] = A[[1,0]]\n",
    "print(A)"
   ]
  },
  {
   "cell_type": "markdown",
   "id": "aeaf4a7b",
   "metadata": {},
   "source": [
    "#### 73. Consider a set of 10 triplets describing 10 triangles (with shared vertices), find the set of unique line segments composing all the  triangles (★★★)"
   ]
  },
  {
   "cell_type": "code",
   "execution_count": 295,
   "id": "39ef4234",
   "metadata": {},
   "outputs": [
    {
     "output_type": "stream",
     "name": "stdout",
     "text": [
      "[(0, 1) (0, 2) (0, 3) (0, 4) (1, 1) (1, 2) (1, 3) (1, 4) (2, 3) (3, 3)\n (3, 4)]\n[[0 1]\n [0 2]\n [0 3]\n [0 4]\n [1 1]\n [1 2]\n [1 3]\n [1 4]\n [2 3]\n [3 3]\n [3 4]]\n"
     ]
    }
   ],
   "source": [
    "faces = np.random.randint(0,5,(10,3))\n",
    "# creat line segments from vertices\n",
    "F = np.roll(faces.repeat(2,axis=1),-1,axis=1)\n",
    "F = F.reshape(len(F)*3,2)\n",
    "# (16,8) and (8,16)are the same line segment\n",
    "F = np.sort(F,axis=1) \n",
    "\n",
    "# method 1:\n",
    "G = F.view( dtype=[('p0',F.dtype),('p1',F.dtype)] )\n",
    "G = np.unique(G)\n",
    "print(G)\n",
    "\n",
    "# method 2:\n",
    "L = np.unique(F,axis=0)\n",
    "print(L)"
   ]
  },
  {
   "cell_type": "markdown",
   "id": "3d11451b",
   "metadata": {},
   "source": [
    "#### 74. Given a sorted array C that corresponds to a bincount, how to produce an array A such that np.bincount(A) == C? (★★★)"
   ]
  },
  {
   "cell_type": "code",
   "execution_count": 296,
   "id": "a5563362",
   "metadata": {},
   "outputs": [
    {
     "output_type": "stream",
     "name": "stdout",
     "text": [
      "[1 1 2 3 4 4 6]\n"
     ]
    }
   ],
   "source": [
    "C = np.bincount([1,1,2,3,4,4,6])\n",
    "A = np.repeat(np.arange(len(C)), C)\n",
    "print(A)"
   ]
  },
  {
   "cell_type": "markdown",
   "id": "a0a45995",
   "metadata": {},
   "source": [
    "#### 75. How to compute averages using a sliding window over an array? (★★★)"
   ]
  },
  {
   "cell_type": "code",
   "execution_count": 297,
   "id": "116243d5",
   "metadata": {},
   "outputs": [
    {
     "output_type": "stream",
     "name": "stdout",
     "text": [
      "[ 1.  2.  3.  4.  5.  6.  7.  8.  9. 10. 11. 12. 13. 14. 15. 16. 17. 18.]\n"
     ]
    }
   ],
   "source": [
    "def moving_average(a, n=3) :\n",
    "    ret = np.cumsum(a, dtype=float)\n",
    "    ret[n:] = ret[n:] - ret[:-n]\n",
    "    return ret[n - 1:] / n # remove the first 2 cumsum\n",
    "Z = np.arange(20)\n",
    "print(moving_average(Z, n=3))"
   ]
  },
  {
   "cell_type": "code",
   "execution_count": 298,
   "metadata": {},
   "outputs": [
    {
     "output_type": "stream",
     "name": "stdout",
     "text": [
      " cumsum(a, axis=None, dtype=None, out=None)\n\nReturn the cumulative sum of the elements along a given axis.\n\nParameters\n----------\na : array_like\n    Input array.\naxis : int, optional\n    Axis along which the cumulative sum is computed. The default\n    (None) is to compute the cumsum over the flattened array.\ndtype : dtype, optional\n    Type of the returned array and of the accumulator in which the\n    elements are summed.  If `dtype` is not specified, it defaults\n    to the dtype of `a`, unless `a` has an integer dtype with a\n    precision less than that of the default platform integer.  In\n    that case, the default platform integer is used.\nout : ndarray, optional\n    Alternative output array in which to place the result. It must\n    have the same shape and buffer length as the expected output\n    but the type will be cast if necessary. See :ref:`ufuncs-output-type` for\n    more details.\n\nReturns\n-------\ncumsum_along_axis : ndarray.\n    A new array holding the result is returned unless `out` is\n    specified, in which case a reference to `out` is returned. The\n    result has the same size as `a`, and the same shape as `a` if\n    `axis` is not None or `a` is a 1-d array.\n\n\nSee Also\n--------\nsum : Sum array elements.\n\ntrapz : Integration of array values using the composite trapezoidal rule.\n\ndiff :  Calculate the n-th discrete difference along given axis.\n\nNotes\n-----\nArithmetic is modular when using integer types, and no error is\nraised on overflow.\n\nExamples\n--------\n>>> a = np.array([[1,2,3], [4,5,6]])\n>>> a\narray([[1, 2, 3],\n       [4, 5, 6]])\n>>> np.cumsum(a)\narray([ 1,  3,  6, 10, 15, 21])\n>>> np.cumsum(a, dtype=float)     # specifies type of output value(s)\narray([  1.,   3.,   6.,  10.,  15.,  21.])\n\n>>> np.cumsum(a,axis=0)      # sum over rows for each of the 3 columns\narray([[1, 2, 3],\n       [5, 7, 9]])\n>>> np.cumsum(a,axis=1)      # sum over columns for each of the 2 rows\narray([[ 1,  3,  6],\n       [ 4,  9, 15]])\n"
     ]
    }
   ],
   "source": [
    "np.info(np.cumsum)"
   ]
  },
  {
   "cell_type": "markdown",
   "id": "7808578f",
   "metadata": {},
   "source": [
    "#### 76. Consider a one-dimensional array Z, build a two-dimensional array whose first row is (Z[0],Z[1],Z[2]) and each subsequent row is  shifted by 1 (last row should be (Z[-3],Z[-2],Z[-1]) (★★★)"
   ]
  },
  {
   "cell_type": "code",
   "execution_count": 299,
   "id": "6b23ba6e",
   "metadata": {},
   "outputs": [
    {
     "output_type": "stream",
     "name": "stdout",
     "text": [
      "[[0, 1, 2], [1, 2, 3], [2, 3, 4], [3, 4, 5], [4, 5, 6], [5, 6, 7], [6, 7, 8], [7, 8, 9]]\n"
     ]
    }
   ],
   "source": [
    "Z = np.arange(10)\n",
    "a=[]\n",
    "for i in range(len(Z)-2):\n",
    "    a.append([Z[i],Z[i+1],Z[i+2]])\n",
    "print(a)\n"
   ]
  },
  {
   "cell_type": "code",
   "execution_count": 305,
   "metadata": {},
   "outputs": [
    {
     "output_type": "stream",
     "name": "stdout",
     "text": [
      "[[0 1 2]\n [1 2 3]\n [2 3 4]\n [3 4 5]\n [4 5 6]\n [5 6 7]\n [6 7 8]\n [7 8 9]]\n"
     ]
    }
   ],
   "source": [
    "# Method 2:\n",
    "from numpy.lib import stride_tricks\n",
    "\n",
    "def rolling(a,window):\n",
    "    shape = (a.size - window +1, window)\n",
    "    strides = (a.strides[0], a.strides[0])\n",
    "    return stride_tricks.as_strided(a,shape=shape,strides=strides)\n",
    "Z = rolling(np.arange(10),3)\n",
    "print(Z)"
   ]
  },
  {
   "cell_type": "markdown",
   "id": "8e83df46",
   "metadata": {},
   "source": [
    "#### 77. How to negate a boolean, or to change the sign of a float inplace? (★★★)"
   ]
  },
  {
   "cell_type": "code",
   "execution_count": 306,
   "id": "f73127b7",
   "metadata": {},
   "outputs": [
    {
     "output_type": "execute_result",
     "data": {
      "text/plain": [
       "array([-0.53316051,  0.7031455 , -0.26974851,  0.72746573,  0.99338504,\n",
       "        0.49109344,  0.32778954,  0.638215  ,  0.64981462,  0.26794875,\n",
       "        0.3942642 ,  0.27877238,  0.54269855,  0.35102889,  0.55075458,\n",
       "       -0.6972999 ,  0.27773611, -0.61890292,  0.82692091, -0.11883652,\n",
       "       -0.50696974,  0.25833131, -0.24151825,  0.90469103,  0.11757071,\n",
       "        0.04803979,  0.50600871, -0.31495812, -0.34988753, -0.24699214,\n",
       "       -0.109475  , -0.73018262,  0.80557444, -0.81872023,  0.07754912,\n",
       "       -0.24392696,  0.06705406,  0.67159639,  0.46912975, -0.40931683,\n",
       "       -0.18234937, -0.87029395, -0.89633419,  0.72415893, -0.78024189,\n",
       "        0.85394831,  0.45791975,  0.70007269, -0.03584714,  0.78787301,\n",
       "        0.27113782,  0.57963315, -0.87215947, -0.55245184, -0.78292127,\n",
       "        0.85812752, -0.02005622, -0.83488712, -0.50874708,  0.26896787,\n",
       "       -0.79662731,  0.50644065,  0.20254174,  0.32963394,  0.6843835 ,\n",
       "        0.09903936,  0.76433601,  0.20152028, -0.55152244,  0.73838153,\n",
       "        0.37494387, -0.21390016,  0.36755373, -0.15005576, -0.4357849 ,\n",
       "       -0.90064371, -0.21961407, -0.65713924, -0.7918275 ,  0.56287419,\n",
       "        0.29220483, -0.36500147, -0.4214624 ,  0.29188648,  0.45169528,\n",
       "       -0.79833283, -0.64141212, -0.0193954 ,  0.900792  ,  0.85758611,\n",
       "       -0.40176115, -0.77826883, -0.45684108, -0.8473432 , -0.24977073,\n",
       "       -0.79799079,  0.0585642 ,  0.3736611 ,  0.74682831,  0.44185365])"
      ]
     },
     "metadata": {},
     "execution_count": 306
    }
   ],
   "source": [
    "Z = np.random.randint(0,2,100)\n",
    "np.logical_not(Z, out=Z)\n",
    "\n",
    "Z = np.random.uniform(-1.0,1.0,100)\n",
    "np.negative(Z, out=Z)"
   ]
  },
  {
   "cell_type": "markdown",
   "id": "e67ff31c",
   "metadata": {},
   "source": [
    "#### 78. Consider 2 sets of points P0,P1 describing lines (2d) and a point p, how to compute distance from p to each line i (P0[i],P1[i])? (★★★)"
   ]
  },
  {
   "cell_type": "code",
   "execution_count": 319,
   "id": "89d75b76",
   "metadata": {},
   "outputs": [
    {
     "output_type": "stream",
     "name": "stdout",
     "text": [
      "[ 1.96134176  3.3511554   3.01054062  7.54760751  6.42615494  8.62222141\n 15.34261863  6.78587757  1.590051    7.8534142 ]\n"
     ]
    }
   ],
   "source": [
    "def distance(p0,p1,p):\n",
    "    t=p1-p0\n",
    "    l=(t**2).sum(axis=1)\n",
    "    u= ((p[...,0]-p0[:,0])*t[:,0] + (p[...,1]-p0[:,1]*t[:,1])) /l\n",
    "    u=u.reshape(len(u),1)\n",
    "    d=p0+u*t-p\n",
    "    return np.sqrt((d**2).sum(axis=1))\n",
    "\n",
    "p0=np.random.uniform(-10,10,(10,2))\n",
    "p1=np.random.uniform(-10,10,(10,2))\n",
    "p =np.random.uniform(-10,10,( 1,2))\n",
    "print(distance(p0,p1,p))\n"
   ]
  },
  {
   "cell_type": "markdown",
   "id": "ad8821b1",
   "metadata": {},
   "source": [
    "#### 79. Consider 2 sets of points P0,P1 describing lines (2d) and a set of points P, how to compute distance from each point j (P[j]) to each line i (P0[i],P1[i])? (★★★)"
   ]
  },
  {
   "cell_type": "code",
   "execution_count": 320,
   "id": "775feca0",
   "metadata": {},
   "outputs": [
    {
     "output_type": "stream",
     "name": "stdout",
     "text": [
      "[[ 5.52789703 13.10196682  5.85208732  6.14750678  3.62800728  5.47129089\n  13.12936349  4.79732291 10.09741196  4.99614881]\n [ 9.99976369 15.21105441  7.78067492 13.49859307  8.37481553  8.75001812\n   2.85590221 12.76711146  5.22866903  5.74374836]\n [14.90449624  2.93080344  7.38990224  2.87008512  1.18791704  5.04952598\n   1.10168175  2.61050871  3.91388572  4.20504008]\n [ 8.63556662  5.85933271  2.92455591  4.07595745  0.30362675  1.27963438\n   3.35951262  3.39957791  0.34525795  3.48885115]\n [10.1326306   7.08676603  3.06642641  5.9208847   2.41507074  1.925946\n   1.39630508  5.34366773  1.98937469  1.87526079]\n [ 3.64956783 11.96188828  4.52031671  5.879611    2.6333537   4.43055921\n  11.27009592  4.57891307  8.24012929  4.31804377]\n [ 9.21086496  6.74106104 10.16560606  5.4465606   7.28942045  9.05433466\n   9.36673217  5.74652983  6.42549895 11.33774923]\n [ 8.47767055  4.45798304  4.9095818   2.14685602  2.04184145  3.50770256\n   5.13180875  1.54018711  2.14498683  5.88295489]\n [13.15147995  9.03475783 14.89936047  8.5909545   9.27274205 13.50681491\n   8.38880182  8.84907587  5.52084607 14.43499581]\n [ 1.53431757 15.39092067  6.80770255 11.08104987  3.76547037  7.80323649\n   5.88718959  9.85606377  2.8532993   2.27219043]]\n"
     ]
    }
   ],
   "source": [
    "# based on distance function from previous question\n",
    "def distance(p0,p1,p):\n",
    "    t=p1-p0\n",
    "    l=(t**2).sum(axis=1)\n",
    "    u= ((p[...,0]-p0[:,0])*t[:,0] + (p[...,1]-p0[:,1]*t[:,1])) /l\n",
    "    u=u.reshape(len(u),1)\n",
    "    d=p0+u*t-p\n",
    "    return np.sqrt((d**2).sum(axis=1))\n",
    "\n",
    "P0 = np.random.uniform(-10, 10, (10,2))\n",
    "P1 = np.random.uniform(-10,10,(10,2))\n",
    "p = np.random.uniform(-10, 10, (10,2))\n",
    "print(np.array([distance(P0,P1,p_i) for p_i in p]))"
   ]
  },
  {
   "cell_type": "markdown",
   "id": "a0c8cbf5",
   "metadata": {},
   "source": [
    "#### 80. Consider an arbitrary array, write a function that extract a subpart with a fixed shape and centered on a given element (pad with a `fill` value when necessary) (★★★)"
   ]
  },
  {
   "cell_type": "code",
   "execution_count": 334,
   "id": "381fd926",
   "metadata": {},
   "outputs": [
    {
     "output_type": "stream",
     "name": "stdout",
     "text": [
      "[[3 4 1 9 8 9 8 5 5 7]\n",
      " [2 5 0 8 3 0 3 4 3 9]\n",
      " [3 7 1 7 2 9 2 6 6 1]\n",
      " [4 5 2 5 3 2 3 1 3 7]\n",
      " [2 4 1 4 4 6 1 9 7 0]\n",
      " [2 0 6 6 8 1 7 1 3 9]\n",
      " [9 6 7 4 6 7 4 3 0 3]\n",
      " [4 3 5 6 9 3 7 2 8 9]\n",
      " [5 7 6 5 1 5 2 3 1 7]\n",
      " [7 2 6 1 7 9 9 6 7 9]]\n",
      "[[0 0 0 0 0]\n",
      " [0 3 4 1 9]\n",
      " [0 2 5 0 8]\n",
      " [0 3 7 1 7]\n",
      " [0 4 5 2 5]]\n",
      "ipykernel_launcher:24: FutureWarning: Using a non-tuple sequence for multidimensional indexing is deprecated; use `arr[tuple(seq)]` instead of `arr[seq]`. In the future this will be interpreted as an array index, `arr[np.array(seq)]`, which will result either in an error or a different result.\n"
     ]
    }
   ],
   "source": [
    "Z = np.random.randint(0,10,(10,10))\n",
    "shape = (5,5)\n",
    "fill  = 0\n",
    "position = (1,1)\n",
    "\n",
    "R = np.ones(shape, dtype=Z.dtype)*fill\n",
    "P  = np.array(list(position)).astype(int)\n",
    "Rs = np.array(list(R.shape)).astype(int)\n",
    "Zs = np.array(list(Z.shape)).astype(int)\n",
    "\n",
    "R_start = np.zeros((len(shape),)).astype(int)\n",
    "R_stop  = np.array(list(shape)).astype(int)\n",
    "#print(R_start,R_stop)\n",
    "Z_start = (P-Rs//2)\n",
    "Z_stop  = (P+Rs//2)+Rs%2\n",
    "\n",
    "R_start = (R_start - np.minimum(Z_start,0)).tolist()\n",
    "Z_start = (np.maximum(Z_start,0)).tolist()\n",
    "R_stop = np.maximum(R_start, (R_stop - np.maximum(Z_stop-Zs,0))).tolist()\n",
    "Z_stop = (np.minimum(Z_stop,Zs)).tolist()\n",
    "\n",
    "r = [slice(start,stop) for start,stop in zip(R_start,R_stop)]\n",
    "z = [slice(start,stop) for start,stop in zip(Z_start,Z_stop)]\n",
    "R[r] = Z[z]\n",
    "print(Z)\n",
    "print(R)"
   ]
  },
  {
   "cell_type": "code",
   "execution_count": 323,
   "metadata": {},
   "outputs": [
    {
     "output_type": "stream",
     "name": "stdout",
     "text": [
      " slice()\n\nslice(stop)\nslice(start, stop[, step])\n\nCreate a slice object.  This is used for extended slicing (e.g. a[0:10:2]).\n\n\nMethods:\n\n  indices  --  S.indices(len) -> (start, stop, stride)\n"
     ]
    }
   ],
   "source": [
    "np.info(slice)"
   ]
  },
  {
   "cell_type": "markdown",
   "id": "781fa236",
   "metadata": {},
   "source": [
    "#### 81. Consider an array Z = [1,2,3,4,5,6,7,8,9,10,11,12,13,14], how to generate an array R = [[1,2,3,4], [2,3,4,5], [3,4,5,6], ..., [11,12,13,14]]? (★★★)"
   ]
  },
  {
   "cell_type": "code",
   "execution_count": 350,
   "id": "8e84d3c2",
   "metadata": {},
   "outputs": [
    {
     "output_type": "stream",
     "name": "stdout",
     "text": [
      "[[ 1  2  3  4]\n [ 2  3  4  5]\n [ 3  4  5  6]\n [ 4  5  6  7]\n [ 5  6  7  8]\n [ 6  7  8  9]\n [ 7  8  9 10]\n [ 8  9 10 11]\n [ 9 10 11 12]\n [10 11 12 13]\n [11 12 13 14]]\n[[ 1  2  3  4]\n [ 2  3  4  5]\n [ 3  4  5  6]\n [ 4  5  6  7]\n [ 5  6  7  8]\n [ 6  7  8  9]\n [ 7  8  9 10]\n [ 8  9 10 11]\n [ 9 10 11 12]\n [10 11 12 13]\n [11 12 13 14]]\n"
     ]
    }
   ],
   "source": [
    "Z= np.arange(1,15,dtype=np.uint64)\n",
    "R= stride_tricks.as_strided(Z,(11,4),(8,8))\n",
    "print(R)\n",
    "\n",
    "Z= np.arange(1,15,dtype=np.uint32)\n",
    "R= stride_tricks.as_strided(Z,(11,4),(4,4))\n",
    "print(R)"
   ]
  },
  {
   "cell_type": "markdown",
   "id": "9c9bb0f3",
   "metadata": {},
   "source": [
    "#### 82. Compute a matrix rank (★★★)"
   ]
  },
  {
   "cell_type": "code",
   "execution_count": 353,
   "id": "b75ef318",
   "metadata": {},
   "outputs": [
    {
     "output_type": "stream",
     "name": "stdout",
     "text": [
      "10\n"
     ]
    }
   ],
   "source": [
    "Z = np.random.uniform(0,1,(10,10))\n",
    "U, S, V = np.linalg.svd(Z) # Singular Value Decomposition\n",
    "rank = np.sum(S > 1e-10)\n",
    "print(rank)"
   ]
  },
  {
   "cell_type": "markdown",
   "id": "7d8dc135",
   "metadata": {},
   "source": [
    "#### 83. How to find the most frequent value in an array?"
   ]
  },
  {
   "cell_type": "code",
   "execution_count": 380,
   "id": "3978a7a2",
   "metadata": {},
   "outputs": [
    {
     "output_type": "stream",
     "name": "stdout",
     "text": [
      "0\n"
     ]
    }
   ],
   "source": [
    "Z = np.random.randint(0,10,50)\n",
    "print(np.bincount(Z).argmax())"
   ]
  },
  {
   "cell_type": "code",
   "execution_count": 381,
   "metadata": {},
   "outputs": [
    {
     "output_type": "stream",
     "name": "stdout",
     "text": [
      "0\n"
     ]
    }
   ],
   "source": [
    "import collections\n",
    "a=collections.Counter(list(Z))\n",
    "Zmax=a.most_common(1)[0]\n",
    "print(Zmax[0])\n"
   ]
  },
  {
   "cell_type": "markdown",
   "id": "aa340126",
   "metadata": {},
   "source": [
    "#### 84. Extract all the contiguous 3x3 blocks from a random 10x10 matrix (★★★)"
   ]
  },
  {
   "cell_type": "code",
   "execution_count": 382,
   "id": "bf138783",
   "metadata": {},
   "outputs": [
    {
     "output_type": "stream",
     "name": "stdout",
     "text": [
      "[[[[1 3 2]\n   [1 2 0]\n   [3 4 1]]\n\n  [[3 2 0]\n   [2 0 4]\n   [4 1 3]]\n\n  [[2 0 3]\n   [0 4 1]\n   [1 3 4]]\n\n  [[0 3 4]\n   [4 1 4]\n   [3 4 3]]\n\n  [[3 4 2]\n   [1 4 3]\n   [4 3 1]]\n\n  [[4 2 2]\n   [4 3 0]\n   [3 1 0]]\n\n  [[2 2 0]\n   [3 0 4]\n   [1 0 2]]\n\n  [[2 0 4]\n   [0 4 4]\n   [0 2 1]]]\n\n\n [[[1 2 0]\n   [3 4 1]\n   [4 2 0]]\n\n  [[2 0 4]\n   [4 1 3]\n   [2 0 2]]\n\n  [[0 4 1]\n   [1 3 4]\n   [0 2 4]]\n\n  [[4 1 4]\n   [3 4 3]\n   [2 4 2]]\n\n  [[1 4 3]\n   [4 3 1]\n   [4 2 4]]\n\n  [[4 3 0]\n   [3 1 0]\n   [2 4 4]]\n\n  [[3 0 4]\n   [1 0 2]\n   [4 4 1]]\n\n  [[0 4 4]\n   [0 2 1]\n   [4 1 4]]]\n\n\n [[[3 4 1]\n   [4 2 0]\n   [0 3 0]]\n\n  [[4 1 3]\n   [2 0 2]\n   [3 0 1]]\n\n  [[1 3 4]\n   [0 2 4]\n   [0 1 0]]\n\n  [[3 4 3]\n   [2 4 2]\n   [1 0 1]]\n\n  [[4 3 1]\n   [4 2 4]\n   [0 1 2]]\n\n  [[3 1 0]\n   [2 4 4]\n   [1 2 3]]\n\n  [[1 0 2]\n   [4 4 1]\n   [2 3 0]]\n\n  [[0 2 1]\n   [4 1 4]\n   [3 0 1]]]\n\n\n [[[4 2 0]\n   [0 3 0]\n   [4 4 2]]\n\n  [[2 0 2]\n   [3 0 1]\n   [4 2 0]]\n\n  [[0 2 4]\n   [0 1 0]\n   [2 0 4]]\n\n  [[2 4 2]\n   [1 0 1]\n   [0 4 4]]\n\n  [[4 2 4]\n   [0 1 2]\n   [4 4 3]]\n\n  [[2 4 4]\n   [1 2 3]\n   [4 3 1]]\n\n  [[4 4 1]\n   [2 3 0]\n   [3 1 3]]\n\n  [[4 1 4]\n   [3 0 1]\n   [1 3 0]]]\n\n\n [[[0 3 0]\n   [4 4 2]\n   [2 4 1]]\n\n  [[3 0 1]\n   [4 2 0]\n   [4 1 1]]\n\n  [[0 1 0]\n   [2 0 4]\n   [1 1 0]]\n\n  [[1 0 1]\n   [0 4 4]\n   [1 0 0]]\n\n  [[0 1 2]\n   [4 4 3]\n   [0 0 4]]\n\n  [[1 2 3]\n   [4 3 1]\n   [0 4 0]]\n\n  [[2 3 0]\n   [3 1 3]\n   [4 0 1]]\n\n  [[3 0 1]\n   [1 3 0]\n   [0 1 4]]]\n\n\n [[[4 4 2]\n   [2 4 1]\n   [2 3 0]]\n\n  [[4 2 0]\n   [4 1 1]\n   [3 0 1]]\n\n  [[2 0 4]\n   [1 1 0]\n   [0 1 1]]\n\n  [[0 4 4]\n   [1 0 0]\n   [1 1 3]]\n\n  [[4 4 3]\n   [0 0 4]\n   [1 3 2]]\n\n  [[4 3 1]\n   [0 4 0]\n   [3 2 3]]\n\n  [[3 1 3]\n   [4 0 1]\n   [2 3 0]]\n\n  [[1 3 0]\n   [0 1 4]\n   [3 0 4]]]\n\n\n [[[2 4 1]\n   [2 3 0]\n   [1 0 2]]\n\n  [[4 1 1]\n   [3 0 1]\n   [0 2 3]]\n\n  [[1 1 0]\n   [0 1 1]\n   [2 3 1]]\n\n  [[1 0 0]\n   [1 1 3]\n   [3 1 2]]\n\n  [[0 0 4]\n   [1 3 2]\n   [1 2 1]]\n\n  [[0 4 0]\n   [3 2 3]\n   [2 1 4]]\n\n  [[4 0 1]\n   [2 3 0]\n   [1 4 0]]\n\n  [[0 1 4]\n   [3 0 4]\n   [4 0 1]]]\n\n\n [[[2 3 0]\n   [1 0 2]\n   [3 4 3]]\n\n  [[3 0 1]\n   [0 2 3]\n   [4 3 2]]\n\n  [[0 1 1]\n   [2 3 1]\n   [3 2 1]]\n\n  [[1 1 3]\n   [3 1 2]\n   [2 1 1]]\n\n  [[1 3 2]\n   [1 2 1]\n   [1 1 2]]\n\n  [[3 2 3]\n   [2 1 4]\n   [1 2 0]]\n\n  [[2 3 0]\n   [1 4 0]\n   [2 0 4]]\n\n  [[3 0 4]\n   [4 0 1]\n   [0 4 0]]]]\n"
     ]
    }
   ],
   "source": [
    "Z = np.random.randint(0,5,(10,10))\n",
    "n = 3\n",
    "i = 1 + (Z.shape[0]-3)\n",
    "j = 1 + (Z.shape[1]-3)\n",
    "C = stride_tricks.as_strided(Z, shape=(i, j, n, n), strides=Z.strides + Z.strides)\n",
    "print(C)"
   ]
  },
  {
   "cell_type": "markdown",
   "id": "6b6d2c84",
   "metadata": {},
   "source": [
    "#### 85. Create a 2D array subclass such that Z[i,j] == Z[j,i] (★★★)"
   ]
  },
  {
   "cell_type": "code",
   "execution_count": 384,
   "id": "155e16ce",
   "metadata": {},
   "outputs": [
    {
     "output_type": "stream",
     "name": "stdout",
     "text": [
      "[[ 2  7 11  5 13]\n [ 7  4  9  2  8]\n [11  9  2 42  8]\n [ 5  2 42  0 15]\n [13  8  8 15  5]]\n"
     ]
    }
   ],
   "source": [
    "class Symetric(np.ndarray):\n",
    "    def __setitem__(self, index, value):\n",
    "        i,j = index\n",
    "        #super(Symetric, self).__setitem__((i,j), value)   # python 2.x\n",
    "        #super(Symetric, self).__setitem__((j,i), value)   # python 2.x\n",
    "        super().__setitem__((i,j), value)  # python 3.x\n",
    "        super().__setitem__((j,i),value)\n",
    "        \n",
    "def symetric(Z):\n",
    "    return np.asarray(Z + Z.T - np.diag(Z.diagonal())).view(Symetric)\n",
    "\n",
    "S = symetric(np.random.randint(0,10,(5,5)))\n",
    "S[2,3] = 42\n",
    "print(S)"
   ]
  },
  {
   "cell_type": "markdown",
   "id": "7be0fe36",
   "metadata": {},
   "source": [
    "#### 86. Consider a set of p matrices wich shape (n,n) and a set of p vectors with shape (n,1). How to compute the sum of of the p matrix products at once? (result has shape (n,1)) (★★★)"
   ]
  },
  {
   "source": [
    "p, n = 10, 20\n",
    "M = np.ones((p,n,n))\n",
    "V = np.ones((p,n,1))\n",
    "S = np.tensordot(M, V, axes=[[0, 2], [0, 1]])\n",
    "print(S)"
   ],
   "cell_type": "code",
   "metadata": {},
   "execution_count": 385,
   "outputs": [
    {
     "output_type": "stream",
     "name": "stdout",
     "text": [
      "[[200.]\n [200.]\n [200.]\n [200.]\n [200.]\n [200.]\n [200.]\n [200.]\n [200.]\n [200.]\n [200.]\n [200.]\n [200.]\n [200.]\n [200.]\n [200.]\n [200.]\n [200.]\n [200.]\n [200.]]\n"
     ]
    }
   ]
  },
  {
   "cell_type": "markdown",
   "id": "a840a88f",
   "metadata": {},
   "source": [
    "#### 87. Consider a 16x16 array, how to get the block-sum (block size is 4x4)? (★★★)"
   ]
  },
  {
   "cell_type": "code",
   "execution_count": 386,
   "id": "6e0c1cbe",
   "metadata": {},
   "outputs": [
    {
     "output_type": "stream",
     "name": "stdout",
     "text": [
      "[[16. 16. 16. 16.]\n [16. 16. 16. 16.]\n [16. 16. 16. 16.]\n [16. 16. 16. 16.]]\n"
     ]
    }
   ],
   "source": [
    "Z = np.ones((16,16))\n",
    "k = 4\n",
    "S = np.add.reduceat(np.add.reduceat(Z, np.arange(0, Z.shape[0], k), axis=0), np.arange(0, Z.shape[1], k), axis=1)\n",
    "print(S)"
   ]
  },
  {
   "cell_type": "code",
   "execution_count": 387,
   "metadata": {},
   "outputs": [
    {
     "output_type": "stream",
     "name": "stdout",
     "text": [
      "reduceat(array, indices, axis=0, dtype=None, out=None)\n\nPerforms a (local) reduce with specified slices over a single axis.\n\nFor i in ``range(len(indices))``, `reduceat` computes\n``ufunc.reduce(array[indices[i]:indices[i+1]])``, which becomes the i-th\ngeneralized \"row\" parallel to `axis` in the final result (i.e., in a\n2-D array, for example, if `axis = 0`, it becomes the i-th row, but if\n`axis = 1`, it becomes the i-th column).  There are three exceptions to this:\n\n* when ``i = len(indices) - 1`` (so for the last index),\n  ``indices[i+1] = array.shape[axis]``.\n* if ``indices[i] >= indices[i + 1]``, the i-th generalized \"row\" is\n  simply ``array[indices[i]]``.\n* if ``indices[i] >= len(array)`` or ``indices[i] < 0``, an error is raised.\n\nThe shape of the output depends on the size of `indices`, and may be\nlarger than `array` (this happens if ``len(indices) > array.shape[axis]``).\n\nParameters\n----------\narray : array_like\n    The array to act on.\nindices : array_like\n    Paired indices, comma separated (not colon), specifying slices to\n    reduce.\naxis : int, optional\n    The axis along which to apply the reduceat.\ndtype : data-type code, optional\n    The type used to represent the intermediate results. Defaults\n    to the data type of the output array if this is provided, or\n    the data type of the input array if no output array is provided.\nout : ndarray, None, or tuple of ndarray and None, optional\n    A location into which the result is stored. If not provided or None,\n    a freshly-allocated array is returned. For consistency with\n    ``ufunc.__call__``, if given as a keyword, this may be wrapped in a\n    1-element tuple.\n\n    .. versionchanged:: 1.13.0\n       Tuples are allowed for keyword argument.\n\nReturns\n-------\nr : ndarray\n    The reduced values. If `out` was supplied, `r` is a reference to\n    `out`.\n\nNotes\n-----\nA descriptive example:\n\nIf `array` is 1-D, the function `ufunc.accumulate(array)` is the same as\n``ufunc.reduceat(array, indices)[::2]`` where `indices` is\n``range(len(array) - 1)`` with a zero placed\nin every other element:\n``indices = zeros(2 * len(array) - 1)``,\n``indices[1::2] = range(1, len(array))``.\n\nDon't be fooled by this attribute's name: `reduceat(array)` is not\nnecessarily smaller than `array`.\n\nExamples\n--------\nTo take the running sum of four successive values:\n\n>>> np.add.reduceat(np.arange(8),[0,4, 1,5, 2,6, 3,7])[::2]\narray([ 6, 10, 14, 18])\n\nA 2-D example:\n\n>>> x = np.linspace(0, 15, 16).reshape(4,4)\n>>> x\narray([[ 0.,   1.,   2.,   3.],\n       [ 4.,   5.,   6.,   7.],\n       [ 8.,   9.,  10.,  11.],\n       [12.,  13.,  14.,  15.]])\n\n::\n\n # reduce such that the result has the following five rows:\n # [row1 + row2 + row3]\n # [row4]\n # [row2]\n # [row3]\n # [row1 + row2 + row3 + row4]\n\n>>> np.add.reduceat(x, [0, 3, 1, 2, 0])\narray([[12.,  15.,  18.,  21.],\n       [12.,  13.,  14.,  15.],\n       [ 4.,   5.,   6.,   7.],\n       [ 8.,   9.,  10.,  11.],\n       [24.,  28.,  32.,  36.]])\n\n::\n\n # reduce such that result has the following two columns:\n # [col1 * col2 * col3, col4]\n\n>>> np.multiply.reduceat(x, [0, 3], 1)\narray([[   0.,     3.],\n       [ 120.,     7.],\n       [ 720.,    11.],\n       [2184.,    15.]])\n"
     ]
    }
   ],
   "source": [
    "np.info(np.add.reduceat)"
   ]
  },
  {
   "cell_type": "markdown",
   "id": "c2bd7385",
   "metadata": {},
   "source": [
    "#### 88. How to implement the Game of Life using numpy arrays? (★★★)"
   ]
  },
  {
   "cell_type": "code",
   "execution_count": 389,
   "id": "aea7d805",
   "metadata": {},
   "outputs": [
    {
     "output_type": "stream",
     "name": "stdout",
     "text": [
      "[[0 0 0 0 0 0 0 0 0 0 0 0 0 0 0 0 0 0 0 0 0 0 0 0 0 0 0 0 0 0 0 0 0 0 0 0\n  0 0 0 0 0 0 0 0 0 0 0 0 0 0]\n [0 0 0 0 0 0 0 0 0 0 0 0 0 0 0 0 0 0 0 0 0 0 0 0 0 0 0 0 0 0 0 0 0 0 0 0\n  0 0 0 0 0 0 0 0 0 0 0 0 0 0]\n [0 0 0 0 0 0 0 0 0 0 0 0 0 0 0 0 0 0 0 0 0 0 0 0 0 0 0 0 0 0 0 0 0 0 0 0\n  0 0 0 0 0 0 0 0 0 0 0 0 0 0]\n [0 0 0 0 0 0 0 0 0 0 0 0 0 0 0 0 0 0 0 0 0 0 0 0 0 0 0 0 0 0 0 0 0 0 0 0\n  0 0 0 0 0 0 0 0 0 0 0 0 0 0]\n [0 0 0 0 0 0 0 0 0 0 0 0 0 0 0 0 0 0 0 0 0 0 0 0 0 0 0 0 0 0 0 0 0 0 0 0\n  0 0 0 0 0 0 0 0 0 0 0 0 0 0]\n [0 0 0 0 0 0 0 0 0 0 0 0 0 0 0 0 0 0 0 0 0 0 0 0 0 0 0 0 0 0 0 0 0 0 0 0\n  0 0 0 0 0 0 0 0 0 0 0 0 0 0]\n [0 0 0 0 0 0 0 0 0 0 0 0 0 0 0 0 0 0 0 0 0 0 0 0 0 0 0 0 0 0 0 0 0 0 0 0\n  0 0 0 0 0 0 0 0 0 1 1 0 0 0]\n [0 0 0 0 0 0 0 0 0 0 0 0 0 0 0 0 0 0 0 0 0 0 0 0 0 0 0 0 0 0 0 0 0 0 0 0\n  0 0 0 0 1 0 0 0 0 1 0 1 0 0]\n [0 0 0 0 0 0 0 0 0 0 0 0 0 0 0 0 0 0 0 0 0 0 0 0 0 0 0 0 0 0 0 0 0 0 0 0\n  0 0 0 1 0 1 0 0 0 0 0 0 1 0]\n [0 0 0 0 0 0 0 0 0 0 0 0 0 0 0 0 0 0 0 0 0 0 0 0 0 0 0 0 0 0 0 0 0 0 0 0\n  0 0 1 1 0 1 0 0 0 1 0 0 1 0]\n [0 0 0 0 0 0 0 0 0 0 0 0 0 1 1 0 0 0 0 0 0 0 0 0 0 0 0 0 0 0 0 0 0 0 0 0\n  0 0 0 1 0 1 1 0 0 0 1 0 1 0]\n [0 0 0 0 0 1 1 0 0 0 0 0 0 1 1 0 0 0 0 0 0 0 0 0 0 0 0 0 0 0 0 0 0 0 0 0\n  0 0 0 0 1 1 0 0 0 0 0 1 1 0]\n [0 0 0 1 1 0 1 1 0 0 0 0 0 0 0 0 0 0 0 0 0 0 0 0 0 0 0 0 0 0 0 0 0 0 0 0\n  0 0 0 0 1 1 0 0 1 1 1 0 1 0]\n [0 0 0 1 1 0 0 0 0 0 0 0 0 0 0 0 0 0 0 0 0 0 0 0 0 0 0 0 0 0 0 0 0 0 0 0\n  0 0 0 0 0 0 0 0 1 1 0 1 1 0]\n [0 0 0 0 0 0 1 1 1 0 0 0 0 0 0 0 0 0 0 0 0 0 0 0 0 0 0 0 0 0 0 0 0 0 0 0\n  0 0 0 0 0 1 1 0 0 1 1 1 0 0]\n [0 0 0 0 1 1 0 0 0 0 0 1 0 1 1 0 0 0 0 0 0 0 0 0 0 0 0 0 0 0 0 0 0 0 1 1\n  0 0 0 0 0 0 0 0 0 0 0 0 0 0]\n [0 0 0 0 0 1 0 0 0 0 1 0 0 1 1 0 0 0 0 0 0 0 0 0 0 0 0 0 0 0 0 0 0 1 0 0\n  1 0 0 0 0 0 0 0 0 0 0 0 0 0]\n [0 0 0 0 0 0 0 0 0 0 0 0 0 0 0 1 0 0 0 0 0 0 0 0 0 0 0 0 0 0 0 0 0 0 1 1\n  0 0 0 0 0 0 0 0 0 0 0 0 0 0]\n [0 0 0 0 0 0 0 0 0 0 0 0 0 0 1 0 0 0 0 1 0 0 0 0 0 0 0 0 0 0 0 0 0 0 0 0\n  0 0 0 0 0 0 0 0 0 0 0 0 0 0]\n [0 0 0 0 0 0 0 0 0 0 0 0 0 1 0 0 0 0 1 0 1 0 0 0 0 0 0 0 1 1 0 0 0 0 0 0\n  0 0 0 0 0 0 0 0 0 0 0 0 0 0]\n [0 0 0 0 0 0 0 0 0 0 0 0 0 0 0 0 0 1 0 0 0 0 0 0 0 0 0 0 1 1 0 0 0 0 0 0\n  0 0 0 0 0 0 0 0 0 0 0 0 0 0]\n [0 0 0 0 0 0 0 0 0 0 0 0 0 0 0 0 0 0 1 1 0 1 1 0 0 0 0 0 0 0 0 0 0 0 0 0\n  0 0 0 0 0 0 0 0 0 0 0 0 0 0]\n [0 0 0 0 0 0 0 0 0 0 0 0 0 0 0 0 0 0 1 1 0 1 1 1 1 1 0 0 0 0 0 0 0 0 0 0\n  1 1 0 0 0 0 0 0 0 0 0 0 0 0]\n [0 0 0 0 0 0 0 0 0 0 0 0 0 0 0 0 0 0 0 0 1 0 0 0 1 1 1 0 0 0 0 0 0 0 0 0\n  1 1 0 0 0 0 0 0 0 0 0 0 0 0]\n [0 0 0 0 0 0 0 0 0 0 0 0 0 0 0 0 0 0 0 1 1 0 0 0 0 1 1 0 0 0 0 0 0 0 0 0\n  0 0 0 0 0 0 0 0 0 0 0 0 0 0]\n [0 0 0 0 0 0 0 0 0 0 0 0 0 0 0 0 0 0 1 0 0 1 0 0 0 0 0 0 0 0 0 0 0 0 0 0\n  0 0 0 0 0 0 0 0 0 0 0 0 0 0]\n [0 0 0 0 0 0 0 0 0 0 0 0 0 0 0 0 0 0 1 1 0 1 0 0 0 0 0 0 0 0 1 0 0 0 0 0\n  0 0 0 0 0 0 0 0 0 0 0 0 0 0]\n [0 0 0 0 0 0 0 0 0 0 0 0 0 0 0 0 0 1 0 0 0 1 0 1 1 1 0 0 1 1 0 1 0 0 0 0\n  0 0 0 0 0 0 0 0 0 0 0 0 0 0]\n [0 0 0 0 0 0 0 0 0 0 0 0 0 0 0 0 0 1 1 0 0 0 0 0 0 0 1 0 0 0 0 1 0 0 0 0\n  0 0 0 0 0 0 0 0 0 0 0 0 0 0]\n [0 0 0 0 0 0 0 0 0 0 0 0 0 0 0 0 0 1 1 0 0 0 1 0 1 0 0 0 0 0 1 0 0 0 0 0\n  0 0 0 0 0 0 0 0 0 0 0 0 0 0]\n [0 0 0 0 0 0 0 0 0 0 0 0 0 0 0 0 0 0 0 0 0 0 0 1 0 1 1 0 1 1 0 0 0 0 0 0\n  0 0 0 0 0 0 0 0 0 0 0 0 0 0]\n [0 0 0 0 0 0 0 0 0 0 0 0 0 0 0 0 0 0 0 0 0 0 0 0 0 0 0 1 0 0 0 0 0 0 0 0\n  0 0 0 0 0 0 0 0 0 0 0 0 0 0]\n [0 0 0 0 0 0 0 0 0 0 0 0 0 0 0 0 0 0 0 0 0 0 0 0 0 0 0 0 0 0 0 0 0 0 0 0\n  0 0 0 0 0 0 0 0 0 0 0 0 0 0]\n [0 0 0 0 0 0 0 0 0 1 1 0 0 0 0 0 0 0 0 0 0 0 0 0 0 0 0 0 0 0 0 0 0 0 0 0\n  0 0 0 0 0 0 0 0 0 0 0 0 0 0]\n [0 0 0 0 0 0 0 0 1 1 1 0 0 0 0 0 0 0 0 0 0 0 0 0 0 0 0 0 0 0 0 0 0 0 0 0\n  0 0 0 0 0 0 0 0 0 0 0 0 0 0]\n [0 0 0 0 1 1 1 0 1 0 1 0 0 0 0 0 0 0 0 0 0 0 0 0 0 0 0 0 0 0 0 0 0 0 1 0\n  0 0 0 0 1 1 1 0 0 0 0 0 0 0]\n [0 0 0 0 1 1 1 0 0 0 0 0 0 0 0 0 0 0 0 0 0 0 0 0 0 0 0 0 0 0 0 0 0 1 0 0\n  0 0 0 0 1 0 0 0 0 0 0 0 0 0]\n [0 0 0 0 0 1 1 0 0 0 0 1 0 1 0 0 0 0 0 0 0 0 0 0 0 0 0 0 0 0 0 0 0 0 1 1\n  1 1 0 0 1 1 0 1 0 0 0 0 0 0]\n [0 0 0 0 0 0 1 0 0 0 0 0 0 0 1 0 0 0 0 0 0 0 1 0 0 0 0 0 0 0 0 0 0 0 0 1\n  0 0 1 0 0 0 1 0 1 0 0 0 0 0]\n [0 0 0 0 1 1 1 0 0 1 0 0 0 0 1 0 0 0 0 0 0 1 1 1 0 0 0 0 0 0 0 0 0 0 0 0\n  0 0 1 1 0 0 0 1 1 0 0 0 0 0]\n [0 0 0 0 1 0 0 1 0 1 1 0 0 0 1 0 0 0 0 0 1 1 0 1 1 0 0 0 0 0 0 0 0 0 0 0\n  0 1 1 0 0 0 0 0 0 0 0 0 0 0]\n [0 1 1 0 0 1 1 0 0 0 0 0 1 1 0 0 1 1 0 0 0 1 1 1 0 0 0 0 0 0 0 0 0 0 0 0\n  0 0 0 0 0 0 0 0 0 0 0 0 0 0]\n [0 0 0 0 0 0 1 0 0 1 0 0 1 0 0 0 0 0 1 0 0 0 1 0 0 0 0 0 0 0 0 0 0 0 0 0\n  0 0 0 0 0 0 0 0 0 0 0 0 0 0]\n [0 1 1 0 0 0 0 1 0 1 0 1 0 0 0 0 1 1 0 0 0 0 0 0 0 0 0 0 0 0 0 0 0 0 0 0\n  0 0 0 0 0 0 0 0 0 0 0 0 0 0]\n [0 0 1 1 1 1 0 1 1 0 1 1 0 1 1 1 1 0 0 0 0 0 0 0 0 0 0 0 0 0 0 0 0 0 0 0\n  0 0 0 1 0 1 0 0 0 0 0 0 0 0]\n [0 0 0 0 1 0 0 0 0 1 0 0 0 0 1 0 0 0 0 0 0 0 0 0 0 0 0 0 0 0 0 0 0 0 0 1\n  1 0 0 1 0 1 1 0 0 0 0 0 0 0]\n [0 0 0 0 1 0 0 0 1 0 1 0 0 0 1 0 0 0 0 0 0 0 0 0 0 0 0 0 0 0 0 0 0 0 0 0\n  1 1 1 0 0 0 1 0 0 0 0 0 0 0]\n [0 0 0 0 0 0 0 0 0 1 0 0 0 0 0 0 0 0 0 0 0 0 0 0 0 0 0 0 0 0 0 0 0 0 0 0\n  0 1 1 0 1 1 0 0 0 0 0 0 0 0]\n [0 0 0 0 0 0 0 0 0 0 0 0 0 0 0 0 0 0 0 0 0 0 0 0 0 0 0 0 0 0 0 0 0 0 0 0\n  0 1 1 0 1 1 0 0 0 0 0 0 0 0]\n [0 0 0 0 0 0 0 0 0 0 0 0 0 0 0 0 0 0 0 0 0 0 0 0 0 0 0 0 0 0 0 0 0 0 0 0\n  0 0 0 0 0 0 0 0 0 0 0 0 0 0]]\n"
     ]
    }
   ],
   "source": [
    "# Author: Nicolas Rougier\n",
    "def iterate(Z):\n",
    "    # Count neighbours\n",
    "    N = (Z[0:-2,0:-2] + Z[0:-2,1:-1] + Z[0:-2,2:] +\n",
    "         Z[1:-1,0:-2]                + Z[1:-1,2:] +\n",
    "         Z[2:  ,0:-2] + Z[2:  ,1:-1] + Z[2:  ,2:])\n",
    "\n",
    "    # Apply rules\n",
    "    birth = (N==3) & (Z[1:-1,1:-1]==0)\n",
    "    survive = ((N==2) | (N==3)) & (Z[1:-1,1:-1]==1)\n",
    "    Z[...] = 0\n",
    "    Z[1:-1,1:-1][birth | survive] = 1\n",
    "    return Z\n",
    "\n",
    "Z = np.random.randint(0,2,(50,50))\n",
    "for i in range(100): Z = iterate(Z)\n",
    "print(Z)"
   ]
  },
  {
   "cell_type": "markdown",
   "id": "4c70397b",
   "metadata": {},
   "source": [
    "#### 89. How to get the n largest values of an array (★★★)"
   ]
  },
  {
   "cell_type": "code",
   "execution_count": 390,
   "id": "16371718",
   "metadata": {},
   "outputs": [
    {
     "output_type": "stream",
     "name": "stdout",
     "text": [
      "[9995 9996 9997 9998 9999]\n[9998 9999 9997 9996 9995]\n"
     ]
    }
   ],
   "source": [
    "Z = np.arange(10000)\n",
    "np.random.shuffle(Z)\n",
    "n = 5\n",
    "\n",
    "# Slow\n",
    "print (Z[np.argsort(Z)[-n:]])\n",
    "\n",
    "# Fast\n",
    "print (Z[np.argpartition(-Z,n)[:n]])"
   ]
  },
  {
   "cell_type": "code",
   "execution_count": 391,
   "metadata": {},
   "outputs": [
    {
     "output_type": "stream",
     "name": "stdout",
     "text": [
      " argpartition(a, kth, axis=-1, kind='introselect', order=None)\n\nPerform an indirect partition along the given axis using the\nalgorithm specified by the `kind` keyword. It returns an array of\nindices of the same shape as `a` that index data along the given\naxis in partitioned order.\n\n.. versionadded:: 1.8.0\n\nParameters\n----------\na : array_like\n    Array to sort.\nkth : int or sequence of ints\n    Element index to partition by. The k-th element will be in its\n    final sorted position and all smaller elements will be moved\n    before it and all larger elements behind it. The order all\n    elements in the partitions is undefined. If provided with a\n    sequence of k-th it will partition all of them into their sorted\n    position at once.\naxis : int or None, optional\n    Axis along which to sort. The default is -1 (the last axis). If\n    None, the flattened array is used.\nkind : {'introselect'}, optional\n    Selection algorithm. Default is 'introselect'\norder : str or list of str, optional\n    When `a` is an array with fields defined, this argument\n    specifies which fields to compare first, second, etc. A single\n    field can be specified as a string, and not all fields need be\n    specified, but unspecified fields will still be used, in the\n    order in which they come up in the dtype, to break ties.\n\nReturns\n-------\nindex_array : ndarray, int\n    Array of indices that partition `a` along the specified axis.\n    If `a` is one-dimensional, ``a[index_array]`` yields a partitioned `a`.\n    More generally, ``np.take_along_axis(a, index_array, axis=a)`` always\n    yields the partitioned `a`, irrespective of dimensionality.\n\nSee Also\n--------\npartition : Describes partition algorithms used.\nndarray.partition : Inplace partition.\nargsort : Full indirect sort.\ntake_along_axis : Apply ``index_array`` from argpartition\n                  to an array as if by calling partition.\n\nNotes\n-----\nSee `partition` for notes on the different selection algorithms.\n\nExamples\n--------\nOne dimensional array:\n\n>>> x = np.array([3, 4, 2, 1])\n>>> x[np.argpartition(x, 3)]\narray([2, 1, 3, 4])\n>>> x[np.argpartition(x, (1, 3))]\narray([1, 2, 3, 4])\n\n>>> x = [3, 4, 2, 1]\n>>> np.array(x)[np.argpartition(x, 3)]\narray([2, 1, 3, 4])\n\nMulti-dimensional array:\n\n>>> x = np.array([[3, 4, 2], [1, 3, 1]])\n>>> index_array = np.argpartition(x, kth=1, axis=-1)\n>>> np.take_along_axis(x, index_array, axis=-1)  # same as np.partition(x, kth=1)\narray([[2, 3, 4],\n       [1, 1, 3]])\n"
     ]
    }
   ],
   "source": [
    "np.info(np.argpartition)"
   ]
  },
  {
   "cell_type": "markdown",
   "id": "15ba193c",
   "metadata": {},
   "source": [
    "#### 90. Given an arbitrary number of vectors, build the cartesian product (every combinations of every item) (★★★)"
   ]
  },
  {
   "cell_type": "code",
   "execution_count": 393,
   "id": "c9c468d4",
   "metadata": {},
   "outputs": [
    {
     "output_type": "stream",
     "name": "stdout",
     "text": [
      "[[[[0 0]\n   [0 0]]\n\n  [[1 1]\n   [1 1]]\n\n  [[2 2]\n   [2 2]]]\n\n\n [[[0 0]\n   [1 1]]\n\n  [[0 0]\n   [1 1]]\n\n  [[0 0]\n   [1 1]]]\n\n\n [[[0 1]\n   [0 1]]\n\n  [[0 1]\n   [0 1]]\n\n  [[0 1]\n   [0 1]]]]\n[[0 0 0]\n [0 0 1]\n [0 1 0]\n [0 1 1]\n [1 0 0]\n [1 0 1]\n [1 1 0]\n [1 1 1]\n [2 0 0]\n [2 0 1]\n [2 1 0]\n [2 1 1]]\n[[1 4 6]\n [1 4 7]\n [1 5 6]\n [1 5 7]\n [2 4 6]\n [2 4 7]\n [2 5 6]\n [2 5 7]\n [3 4 6]\n [3 4 7]\n [3 5 6]\n [3 5 7]]\n"
     ]
    }
   ],
   "source": [
    "# Author: Stefan Van der Walt\n",
    "\n",
    "def cartesian(arrays):\n",
    "    arrays = [np.asarray(a) for a in arrays]\n",
    "    shape = (len(x) for x in arrays)\n",
    "\n",
    "    ix = np.indices(shape, dtype=int)\n",
    "    print(ix)\n",
    "    ix = ix.reshape(len(arrays), -1).T\n",
    "    print(ix)\n",
    "    \n",
    "    for n, arr in enumerate(arrays):\n",
    "        ix[:, n] = arrays[n][ix[:, n]]\n",
    "\n",
    "    return ix\n",
    "\n",
    "print (cartesian(([1, 2, 3], [4, 5], [6, 7])))"
   ]
  },
  {
   "cell_type": "markdown",
   "id": "ec828405",
   "metadata": {},
   "source": [
    "#### 91. How to create a record array from a regular array? (★★★)"
   ]
  },
  {
   "cell_type": "code",
   "execution_count": 398,
   "id": "84eb5fba",
   "metadata": {},
   "outputs": [
    {
     "output_type": "stream",
     "name": "stdout",
     "text": [
      "[(b'Hello', 2.5, 3) (b'World', 3.6, 2)]\n"
     ]
    }
   ],
   "source": [
    "Z = np.array([(\"Hello\", 2.5, 3),\n",
    "              (\"World\", 3.6, 2)])\n",
    "R = np.core.records.fromarrays(Z.T,names='col1, col2, col3',formats = 'S8, f8, i8')\n",
    "print(R)"
   ]
  },
  {
   "cell_type": "markdown",
   "id": "d94352b6",
   "metadata": {},
   "source": [
    "#### 92. Consider a large vector Z, compute Z to the power of 3 using 3 different methods (★★★)"
   ]
  },
  {
   "cell_type": "code",
   "execution_count": 399,
   "id": "301ba8a8",
   "metadata": {},
   "outputs": [
    {
     "output_type": "stream",
     "name": "stdout",
     "text": [
      "2.14 s ± 8.41 ms per loop (mean ± std. dev. of 7 runs, 1 loop each)\n",
      "387 ms ± 8.58 ms per loop (mean ± std. dev. of 7 runs, 1 loop each)\n",
      "346 ms ± 6.28 ms per loop (mean ± std. dev. of 7 runs, 1 loop each)\n"
     ]
    }
   ],
   "source": [
    "x = np.random.rand(int(5e7))\n",
    "\n",
    "%timeit np.power(x,3)\n",
    "%timeit x*x*x\n",
    "%timeit np.einsum('i,i,i->i',x,x,x)"
   ]
  },
  {
   "cell_type": "markdown",
   "id": "7c3a9e32",
   "metadata": {},
   "source": [
    "#### 93. Consider two arrays A and B of shape (8,3) and (2,2). How to find rows of A that contain elements of each row of B regardless of the order of the elements in B? (★★★)"
   ]
  },
  {
   "cell_type": "code",
   "execution_count": 5,
   "id": "777376e3",
   "metadata": {},
   "outputs": [
    {
     "output_type": "stream",
     "name": "stdout",
     "text": [
      "[[[[False False]\n   [False  True]]\n\n  [[ True False]\n   [False False]]\n\n  [[False False]\n   [False  True]]]\n\n\n [[[False False]\n   [False  True]]\n\n  [[False False]\n   [ True False]]\n\n  [[False False]\n   [False False]]]\n\n\n [[[False False]\n   [False  True]]\n\n  [[ True False]\n   [False False]]\n\n  [[False False]\n   [ True False]]]\n\n\n [[[False  True]\n   [False False]]\n\n  [[False  True]\n   [False False]]\n\n  [[ True False]\n   [False False]]]\n\n\n [[[False  True]\n   [False False]]\n\n  [[False  True]\n   [False False]]\n\n  [[False  True]\n   [False False]]]\n\n\n [[[False  True]\n   [False False]]\n\n  [[False False]\n   [False  True]]\n\n  [[False False]\n   [ True False]]]\n\n\n [[[False False]\n   [ True False]]\n\n  [[False False]\n   [False False]]\n\n  [[ True False]\n   [False False]]]\n\n\n [[[False False]\n   [False  True]]\n\n  [[False  True]\n   [False False]]\n\n  [[False  True]\n   [False False]]]]\n[[ True  True]\n [False  True]\n [ True  True]\n [ True False]\n [ True False]\n [ True  True]\n [ True  True]\n [ True  True]]\n[0 2 5 6 7]\n"
     ]
    }
   ],
   "source": [
    "# Author: Gabe Schwartz\n",
    "\n",
    "A = np.random.randint(0,5,(8,3))\n",
    "B = np.random.randint(0,5,(2,2))\n",
    "\n",
    "C = (A[..., np.newaxis, np.newaxis] == B)\n",
    "print(C)\n",
    "print(C.any((3,1)))\n",
    "rows = np.where(C.any((3,1)).all(1))[0]\n",
    "print(rows)"
   ]
  },
  {
   "cell_type": "markdown",
   "id": "da9d5eeb",
   "metadata": {},
   "source": [
    "#### 94. Considering a 10x3 matrix, extract rows with unequal values (e.g. [2,2,3]) (★★★)"
   ]
  },
  {
   "cell_type": "code",
   "execution_count": null,
   "id": "67dbea5c",
   "metadata": {},
   "outputs": [],
   "source": [
    "# Author: Robert Kern\n",
    "\n",
    "Z = np.random.randint(0,5,(10,3))\n",
    "print(Z)\n",
    "# solution for arrays of all dtypes (including string arrays and record arrays)\n",
    "E = np.all(Z[:,1:] == Z[:,:-1], axis=1)\n",
    "U = Z[~E]\n",
    "print(U)\n",
    "# soluiton for numerical arrays only, will work for any number of columns in Z\n",
    "U = Z[Z.max(axis=1) != Z.min(axis=1),:]\n",
    "print(U)"
   ]
  },
  {
   "cell_type": "markdown",
   "id": "f7b65fd5",
   "metadata": {},
   "source": [
    "#### 95. Convert a vector of ints into a matrix binary representation (★★★)"
   ]
  },
  {
   "cell_type": "code",
   "execution_count": 6,
   "id": "127294ed",
   "metadata": {},
   "outputs": [
    {
     "output_type": "stream",
     "name": "stdout",
     "text": [
      "[[0 0 0 0 0 0 0 0]\n [0 0 0 0 0 0 0 1]\n [0 0 0 0 0 0 1 0]\n [0 0 0 0 0 0 1 1]\n [0 0 0 0 1 1 1 1]\n [0 0 0 1 0 0 0 0]\n [0 0 1 0 0 0 0 0]\n [0 1 0 0 0 0 0 0]\n [1 0 0 0 0 0 0 0]]\n[[0 0 0 0 0 0 0 0]\n [0 0 0 0 0 0 0 1]\n [0 0 0 0 0 0 1 0]\n [0 0 0 0 0 0 1 1]\n [0 0 0 0 1 1 1 1]\n [0 0 0 1 0 0 0 0]\n [0 0 1 0 0 0 0 0]\n [0 1 0 0 0 0 0 0]\n [1 0 0 0 0 0 0 0]]\n"
     ]
    }
   ],
   "source": [
    "# Author: Warren Weckesser\n",
    "\n",
    "I = np.array([0, 1, 2, 3, 15, 16, 32, 64, 128])\n",
    "B = ((I.reshape(-1,1) & (2**np.arange(8))) != 0).astype(int)\n",
    "print(B[:,::-1])\n",
    "\n",
    "# Author: Daniel T. McDonald\n",
    "\n",
    "I = np.array([0, 1, 2, 3, 15, 16, 32, 64, 128], dtype=np.uint8)\n",
    "print(np.unpackbits(I[:, np.newaxis], axis=1))"
   ]
  },
  {
   "cell_type": "markdown",
   "id": "2784c996",
   "metadata": {},
   "source": [
    "#### 96. Given a two dimensional array, how to extract unique rows? (★★★)"
   ]
  },
  {
   "cell_type": "code",
   "execution_count": 7,
   "id": "f030595f",
   "metadata": {},
   "outputs": [
    {
     "output_type": "stream",
     "name": "stdout",
     "text": [
      "[[0 0 0]\n [0 0 1]\n [0 1 0]\n [1 0 0]\n [1 1 1]]\n[[0 0 0]\n [0 0 1]\n [0 1 0]\n [1 0 0]\n [1 1 1]]\n"
     ]
    }
   ],
   "source": [
    "# Author: Jaime Fernández del Río\n",
    "\n",
    "Z = np.random.randint(0,2,(6,3))\n",
    "T = np.ascontiguousarray(Z).view(np.dtype((np.void, Z.dtype.itemsize * Z.shape[1])))\n",
    "_, idx = np.unique(T, return_index=True)\n",
    "uZ = Z[idx]\n",
    "print(uZ)\n",
    "\n",
    "# Author: Andreas Kouzelis\n",
    "# NumPy >= 1.13\n",
    "uZ = np.unique(Z, axis=0)\n",
    "print(uZ)"
   ]
  },
  {
   "cell_type": "markdown",
   "id": "71a7574c",
   "metadata": {},
   "source": [
    "#### 97. Considering 2 vectors A & B, write the einsum equivalent of inner, outer, sum, and mul function (★★★)"
   ]
  },
  {
   "cell_type": "code",
   "execution_count": 11,
   "id": "721c4e1a",
   "metadata": {},
   "outputs": [
    {
     "output_type": "execute_result",
     "data": {
      "text/plain": [
       "array([[0.78090203, 0.29126117, 0.91667138, 0.2899054 , 0.42105448],\n",
       "       [0.20443379, 0.0762498 , 0.2399771 , 0.07589487, 0.11022863],\n",
       "       [0.53387147, 0.19912361, 0.62669154, 0.19819672, 0.2878581 ],\n",
       "       [0.12343243, 0.04603788, 0.14489266, 0.04582358, 0.06655352],\n",
       "       [0.11321056, 0.04222532, 0.13289359, 0.04202877, 0.06104199]])"
      ]
     },
     "metadata": {},
     "execution_count": 11
    }
   ],
   "source": [
    "# Author: Alex Riley\n",
    "# Make sure to read: http://ajcr.net/Basic-guide-to-einsum/\n",
    "\n",
    "A = np.random.uniform(0,1,5)\n",
    "B = np.random.uniform(0,1,5)\n",
    "\n",
    "np.einsum('i->', A)       # np.sum(A)\n",
    "np.einsum('i,i->i', A, B) # A * B\n",
    "np.einsum('i,i', A, B)    # np.inner(A, B)\n",
    "np.einsum('i,j->ij', A, B)    # np.outer(A, B)"
   ]
  },
  {
   "cell_type": "markdown",
   "id": "30f06441",
   "metadata": {},
   "source": [
    "#### 98. Considering a path described by two vectors (X,Y), how to sample it using equidistant samples (★★★)?"
   ]
  },
  {
   "cell_type": "code",
   "execution_count": 13,
   "id": "fb41c022",
   "metadata": {},
   "outputs": [],
   "source": [
    "# Author: Bas Swinckels\n",
    "\n",
    "phi = np.arange(0, 10*np.pi, 0.1)\n",
    "a = 1\n",
    "x = a*phi*np.cos(phi)\n",
    "y = a*phi*np.sin(phi)\n",
    "\n",
    "dr = (np.diff(x)**2 + np.diff(y)**2)**.5 # segment lengths\n",
    "r = np.zeros_like(x)\n",
    "r[1:] = np.cumsum(dr)                # integrate path\n",
    "r_int = np.linspace(0, r.max(), 200) # regular spaced path\n",
    "x_int = np.interp(r_int, r, x)       # integrate path\n",
    "y_int = np.interp(r_int, r, y)"
   ]
  },
  {
   "cell_type": "code",
   "execution_count": 16,
   "metadata": {},
   "outputs": [
    {
     "output_type": "stream",
     "name": "stdout",
     "text": [
      " interp(x, xp, fp, left=None, right=None, period=None)\n\nOne-dimensional linear interpolation.\n\nReturns the one-dimensional piecewise linear interpolant to a function\nwith given discrete data points (`xp`, `fp`), evaluated at `x`.\n\nParameters\n----------\nx : array_like\n    The x-coordinates at which to evaluate the interpolated values.\n\nxp : 1-D sequence of floats\n    The x-coordinates of the data points, must be increasing if argument\n    `period` is not specified. Otherwise, `xp` is internally sorted after\n    normalizing the periodic boundaries with ``xp = xp % period``.\n\nfp : 1-D sequence of float or complex\n    The y-coordinates of the data points, same length as `xp`.\n\nleft : optional float or complex corresponding to fp\n    Value to return for `x < xp[0]`, default is `fp[0]`.\n\nright : optional float or complex corresponding to fp\n    Value to return for `x > xp[-1]`, default is `fp[-1]`.\n\nperiod : None or float, optional\n    A period for the x-coordinates. This parameter allows the proper\n    interpolation of angular x-coordinates. Parameters `left` and `right`\n    are ignored if `period` is specified.\n\n    .. versionadded:: 1.10.0\n\nReturns\n-------\ny : float or complex (corresponding to fp) or ndarray\n    The interpolated values, same shape as `x`.\n\nRaises\n------\nValueError\n    If `xp` and `fp` have different length\n    If `xp` or `fp` are not 1-D sequences\n    If `period == 0`\n\nSee Also\n--------\nscipy.interpolate\n\nNotes\n-----\nThe x-coordinate sequence is expected to be increasing, but this is not\nexplicitly enforced.  However, if the sequence `xp` is non-increasing,\ninterpolation results are meaningless.\n\nNote that, since NaN is unsortable, `xp` also cannot contain NaNs.\n\nA simple check for `xp` being strictly increasing is::\n\n    np.all(np.diff(xp) > 0)\n\nExamples\n--------\n>>> xp = [1, 2, 3]\n>>> fp = [3, 2, 0]\n>>> np.interp(2.5, xp, fp)\n1.0\n>>> np.interp([0, 1, 1.5, 2.72, 3.14], xp, fp)\narray([3.  , 3.  , 2.5 , 0.56, 0.  ])\n>>> UNDEF = -99.0\n>>> np.interp(3.14, xp, fp, right=UNDEF)\n-99.0\n\nPlot an interpolant to the sine function:\n\n>>> x = np.linspace(0, 2*np.pi, 10)\n>>> y = np.sin(x)\n>>> xvals = np.linspace(0, 2*np.pi, 50)\n>>> yinterp = np.interp(xvals, x, y)\n>>> import matplotlib.pyplot as plt\n>>> plt.plot(x, y, 'o')\n[<matplotlib.lines.Line2D object at 0x...>]\n>>> plt.plot(xvals, yinterp, '-x')\n[<matplotlib.lines.Line2D object at 0x...>]\n>>> plt.show()\n\nInterpolation with periodic x-coordinates:\n\n>>> x = [-180, -170, -185, 185, -10, -5, 0, 365]\n>>> xp = [190, -190, 350, -350]\n>>> fp = [5, 10, 3, 4]\n>>> np.interp(x, xp, fp, period=360)\narray([7.5 , 5.  , 8.75, 6.25, 3.  , 3.25, 3.5 , 3.75])\n\nComplex interpolation:\n\n>>> x = [1.5, 4.0]\n>>> xp = [2,3,5]\n>>> fp = [1.0j, 0, 2+3j]\n>>> np.interp(x, xp, fp)\narray([0.+1.j , 1.+1.5j])\n"
     ]
    }
   ],
   "source": [
    "np.info(np.interp)"
   ]
  },
  {
   "cell_type": "markdown",
   "id": "e5737276",
   "metadata": {},
   "source": [
    "#### 99. Given an integer n and a 2D array X, select from X the rows which can be interpreted as draws from a multinomial distribution with n degrees, i.e., the rows which only contain integers and which sum to n. (★★★)"
   ]
  },
  {
   "cell_type": "code",
   "execution_count": 18,
   "id": "68c333b0",
   "metadata": {},
   "outputs": [
    {
     "output_type": "stream",
     "name": "stdout",
     "text": [
      "[ True  True False]\n[False  True False]\n[[2. 0. 1. 1.]]\n"
     ]
    }
   ],
   "source": [
    "X = np.asarray([[1.0, 0.0, 3.0, 8.0],\n",
    "                [2.0, 0.0, 1.0, 1.0],\n",
    "                [1.5, 2.5, 1.0, 0.0]])\n",
    "n = 4\n",
    "M = np.logical_and.reduce(np.mod(X, 1) == 0, axis=-1)\n",
    "print(M)\n",
    "M &= (X.sum(axis=-1) == n)\n",
    "print(M)\n",
    "print(X[M])"
   ]
  },
  {
   "cell_type": "markdown",
   "id": "5882e36d",
   "metadata": {},
   "source": [
    "#### 100. Compute bootstrapped 95% confidence intervals for the mean of a 1D array X (i.e., resample the elements of an array with replacement N times, compute the mean of each sample, and then compute percentiles over the means). (★★★)"
   ]
  },
  {
   "cell_type": "code",
   "execution_count": 21,
   "id": "d1b566e5",
   "metadata": {},
   "outputs": [
    {
     "output_type": "stream",
     "name": "stdout",
     "text": [
      "(1000,)\n[-0.01509186  0.33559579]\n"
     ]
    }
   ],
   "source": [
    "# Author: Jessica B. Hamrick\n",
    "\n",
    "X = np.random.randn(100) # random 1D array\n",
    "N = 1000 # number of bootstrap samples\n",
    "idx = np.random.randint(0, X.size, (N, X.size))\n",
    "means = X[idx].mean(axis=1) \n",
    "print(means.shape) #(1000,)\n",
    "confint = np.percentile(means, [2.5, 97.5])\n",
    "print(confint)"
   ]
  },
  {
   "cell_type": "code",
   "execution_count": null,
   "metadata": {},
   "outputs": [],
   "source": []
  }
 ],
 "metadata": {
  "kernelspec": {
   "name": "python372jvsc74a57bd0e534e48711db4d1e1c48977d0d14ff85b1f16d41bcc4fdfd88268a329b3c9d66",
   "display_name": "Python 3.7.2 64-bit ('3.7')"
  },
  "metadata": {
   "interpreter": {
    "hash": "e534e48711db4d1e1c48977d0d14ff85b1f16d41bcc4fdfd88268a329b3c9d66"
   }
  }
 },
 "nbformat": 4,
 "nbformat_minor": 5
}